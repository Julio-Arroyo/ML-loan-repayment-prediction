{
 "cells": [
  {
   "cell_type": "code",
   "execution_count": 8,
   "metadata": {},
   "outputs": [
    {
     "name": "stdout",
     "output_type": "stream",
     "text": [
      "Requirement already satisfied: kaggle in /Users/jarroyo/miniforge3/lib/python3.9/site-packages (1.5.12)\n",
      "Requirement already satisfied: python-dateutil in /Users/jarroyo/miniforge3/lib/python3.9/site-packages (from kaggle) (2.8.2)\n",
      "Requirement already satisfied: urllib3 in /Users/jarroyo/miniforge3/lib/python3.9/site-packages (from kaggle) (1.26.6)\n",
      "Requirement already satisfied: six>=1.10 in /Users/jarroyo/miniforge3/lib/python3.9/site-packages (from kaggle) (1.16.0)\n",
      "Requirement already satisfied: certifi in /Users/jarroyo/miniforge3/lib/python3.9/site-packages (from kaggle) (2021.10.8)\n",
      "Requirement already satisfied: tqdm in /Users/jarroyo/miniforge3/lib/python3.9/site-packages (from kaggle) (4.61.1)\n",
      "Requirement already satisfied: python-slugify in /Users/jarroyo/miniforge3/lib/python3.9/site-packages (from kaggle) (5.0.2)\n",
      "Requirement already satisfied: requests in /Users/jarroyo/miniforge3/lib/python3.9/site-packages (from kaggle) (2.25.1)\n",
      "Requirement already satisfied: text-unidecode>=1.3 in /Users/jarroyo/miniforge3/lib/python3.9/site-packages (from python-slugify->kaggle) (1.3)\n",
      "Requirement already satisfied: idna<3,>=2.5 in /Users/jarroyo/miniforge3/lib/python3.9/site-packages (from requests->kaggle) (2.10)\n",
      "Requirement already satisfied: chardet<5,>=3.0.2 in /Users/jarroyo/miniforge3/lib/python3.9/site-packages (from requests->kaggle) (4.0.0)\n",
      "\u001b[33mWARNING: You are using pip version 21.3.1; however, version 22.0.2 is available.\n",
      "You should consider upgrading via the '/Users/jarroyo/miniforge3/bin/python3.9 -m pip install --upgrade pip' command.\u001b[0m\n"
     ]
    }
   ],
   "source": [
    "# !pip install kaggle\n",
    "# !cd ~/.kaggle\n",
    "# !mv ~/Downloads/kaggle.json ./\n",
    "# !chmod 600 ./kaggle.json\n"
   ]
  },
  {
   "cell_type": "code",
   "execution_count": 11,
   "metadata": {},
   "outputs": [
    {
     "name": "stdout",
     "output_type": "stream",
     "text": [
      "Downloading caltech-cs155-2022-mp1.zip to /Users/jarroyo/OneDrive - California Institute of Technology/Courses/Winter_2022/ML-credit-approval\n",
      " 94%|███████████████████████████████████▊  | 12.0M/12.7M [00:00<00:00, 15.5MB/s]\n",
      "100%|██████████████████████████████████████| 12.7M/12.7M [00:00<00:00, 15.3MB/s]\n"
     ]
    }
   ],
   "source": [
    "!kaggle competitions download -c caltech-cs155-2022-mp1"
   ]
  },
  {
   "cell_type": "code",
   "execution_count": null,
   "metadata": {},
   "outputs": [],
   "source": []
  }
 ],
 "metadata": {
  "interpreter": {
   "hash": "4b5295d72cc8c3d140bbb6686d5919ce0ad0a523816efde1e1cd082b7d39dbc7"
  },
  "kernelspec": {
   "display_name": "Python 3.9.5 64-bit ('base': conda)",
   "language": "python",
   "name": "python3"
  },
  "language_info": {
   "codemirror_mode": {
    "name": "ipython",
    "version": 3
   },
   "file_extension": ".py",
   "mimetype": "text/x-python",
   "name": "python",
   "nbconvert_exporter": "python",
   "pygments_lexer": "ipython3",
   "version": "3.8.9"
  },
  "orig_nbformat": 4
 },
 "nbformat": 4,
 "nbformat_minor": 2
}
