{
 "cells": [
  {
   "cell_type": "code",
   "execution_count": 2,
   "metadata": {},
   "outputs": [],
   "source": [
    "# !pip install kaggle\n",
    "# !cd ~/.kaggle\n",
    "# !mv ~/Downloads/kaggle.json ./\n",
    "# !chmod 600 ./kaggle.json\n"
   ]
  },
  {
   "cell_type": "code",
   "execution_count": 9,
   "metadata": {},
   "outputs": [
    {
     "name": "stdout",
     "output_type": "stream",
     "text": [
      "Downloading caltech-cs155-2022-mp1.zip to /Users/eli.seiner/Desktop/ML-credit-approval\n",
      " 94%|███████████████████████████████████▊  | 12.0M/12.7M [00:00<00:00, 19.0MB/s]\n",
      "100%|██████████████████████████████████████| 12.7M/12.7M [00:00<00:00, 18.3MB/s]\n"
     ]
    }
   ],
   "source": [
    "!kaggle competitions download -c caltech-cs155-2022-mp1"
   ]
  },
  {
   "cell_type": "code",
   "execution_count": 2,
   "metadata": {},
   "outputs": [],
   "source": [
    "import numpy as np\n",
    "import pandas as pd\n",
    "import sklearn\n",
    "import matplotlib.pyplot as plt\n"
   ]
  },
  {
   "cell_type": "markdown",
   "metadata": {},
   "source": [
    "Import and Parse Data"
   ]
  },
  {
   "cell_type": "code",
   "execution_count": 7,
   "metadata": {},
   "outputs": [
    {
     "name": "stdout",
     "output_type": "stream",
     "text": [
      "[0 5000 36 10.65 162.87 'B' 'B2' nan '10+ years' 'RENT' 24000.0 'Verified'\n",
      " 'Dec-2011' 'credit_card' 'Computer' '860xx' 'AZ' 27.65 'Jan-1985' 3 0\n",
      " 13648 '83.7%' 9 'f' 'Individual' nan 0.0 'Fully Paid']\n",
      "B\n",
      "ACCURACY: 0.5518124207858048\n"
     ]
    }
   ],
   "source": [
    "train_data = pd.read_csv('data/LOANS_TRAIN.csv')\n",
    "test_data = pd.read_csv('data/LOANS_TEST.csv')\n",
    "\n",
    "train_data['int_rate'] = train_data['int_rate'].str.rstrip('%').astype(float)\n",
    "print(train_data.values[0])\n",
    "print(train_data.values[0][5])\n",
    "count = 0\n",
    "\n",
    "correct = 0\n",
    "total = 0\n",
    "for datapoint in train_data.values:\n",
    "    credit_score = datapoint[5]\n",
    "    outcome = datapoint[-1]\n",
    "    if outcome == \"Fully Paid\":\n",
    "        ground_truth = 1\n",
    "    else:\n",
    "        ground_truth = 0\n",
    "    if credit_score == \"A\" or credit_score == \"B\":\n",
    "        prediction = 1\n",
    "    else:\n",
    "        prediction = 0\n",
    "    if ground_truth == prediction:\n",
    "        correct += 1\n",
    "    total += 1\n",
    "print(f\"ACCURACY: {correct/total}\")\n",
    "\n",
    "\n"
   ]
  }
 ],
 "metadata": {
  "interpreter": {
   "hash": "cadefa720d1a2267f4d12d08d812560a64cfe891877bc388bf0e8af3e4846067"
  },
  "kernelspec": {
   "display_name": "Python 3.8.5 64-bit",
   "name": "python3"
  },
  "language_info": {
   "codemirror_mode": {
    "name": "ipython",
    "version": 3
   },
   "file_extension": ".py",
   "mimetype": "text/x-python",
   "name": "python",
   "nbconvert_exporter": "python",
   "pygments_lexer": "ipython3",
   "version": "3.8.10"
  },
  "orig_nbformat": 4
 },
 "nbformat": 4,
 "nbformat_minor": 2
}
