{
 "cells": [
  {
   "cell_type": "code",
   "execution_count": 2,
   "source": [
    "# !pip install kaggle\n",
    "# !cd ~/.kaggle\n",
    "# !mv ~/Downloads/kaggle.json ./\n",
    "# !chmod 600 ./kaggle.json\n"
   ],
   "outputs": [],
   "metadata": {}
  },
  {
   "cell_type": "code",
   "execution_count": 9,
   "source": [
    "!kaggle competitions download -c caltech-cs155-2022-mp1"
   ],
   "outputs": [
    {
     "output_type": "stream",
     "name": "stdout",
     "text": [
      "Downloading caltech-cs155-2022-mp1.zip to /Users/eli.seiner/Desktop/ML-credit-approval\n",
      " 94%|███████████████████████████████████▊  | 12.0M/12.7M [00:00<00:00, 19.0MB/s]\n",
      "100%|██████████████████████████████████████| 12.7M/12.7M [00:00<00:00, 18.3MB/s]\n"
     ]
    }
   ],
   "metadata": {}
  },
  {
   "cell_type": "code",
   "execution_count": 11,
   "source": [
    "import numpy as np\n",
    "import pandas as pd\n",
    "import sklearn\n",
    "import matplotlib.pyplot as plt\n"
   ],
   "outputs": [],
   "metadata": {}
  }
 ],
 "metadata": {
  "interpreter": {
   "hash": "cadefa720d1a2267f4d12d08d812560a64cfe891877bc388bf0e8af3e4846067"
  },
  "kernelspec": {
   "name": "python3",
   "display_name": "Python 3.8.5 64-bit"
  },
  "language_info": {
   "codemirror_mode": {
    "name": "ipython",
    "version": 3
   },
   "file_extension": ".py",
   "mimetype": "text/x-python",
   "name": "python",
   "nbconvert_exporter": "python",
   "pygments_lexer": "ipython3",
   "version": "3.8.5"
  },
  "orig_nbformat": 4
 },
 "nbformat": 4,
 "nbformat_minor": 2
}