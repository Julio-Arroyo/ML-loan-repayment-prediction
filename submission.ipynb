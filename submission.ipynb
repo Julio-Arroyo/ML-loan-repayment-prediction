{
 "cells": [
  {
   "cell_type": "code",
   "execution_count": 25,
   "source": [
    "# !pip install kaggle\n",
    "# !cd ~/.kaggle\n",
    "# !mv ~/Downloads/kaggle.json ./\n",
    "# !chmod 600 ./kaggle.json\n",
    "!pip install category_encoders\n"
   ],
   "outputs": [
    {
     "output_type": "stream",
     "name": "stdout",
     "text": [
      "Collecting category_encoders\n",
      "  Downloading category_encoders-2.3.0-py2.py3-none-any.whl (82 kB)\n",
      "     |████████████████████████████████| 82 kB 1.2 MB/s             \n",
      "\u001b[?25hRequirement already satisfied: numpy>=1.14.0 in /Library/Frameworks/Python.framework/Versions/3.8/lib/python3.8/site-packages (from category_encoders) (1.21.0)\n",
      "Requirement already satisfied: scikit-learn>=0.20.0 in /Library/Frameworks/Python.framework/Versions/3.8/lib/python3.8/site-packages (from category_encoders) (1.0.1)\n",
      "Collecting statsmodels>=0.9.0\n",
      "  Downloading statsmodels-0.13.1-cp38-cp38-macosx_10_15_x86_64.whl (9.6 MB)\n",
      "     |████████████████████████████████| 9.6 MB 9.0 MB/s            \n",
      "\u001b[?25hRequirement already satisfied: pandas>=0.21.1 in /Library/Frameworks/Python.framework/Versions/3.8/lib/python3.8/site-packages (from category_encoders) (1.2.5)\n",
      "Requirement already satisfied: scipy>=1.0.0 in /Library/Frameworks/Python.framework/Versions/3.8/lib/python3.8/site-packages (from category_encoders) (1.7.0)\n",
      "Collecting patsy>=0.5.1\n",
      "  Downloading patsy-0.5.2-py2.py3-none-any.whl (233 kB)\n",
      "     |████████████████████████████████| 233 kB 8.3 MB/s            \n",
      "\u001b[?25hRequirement already satisfied: pytz>=2017.3 in /Library/Frameworks/Python.framework/Versions/3.8/lib/python3.8/site-packages (from pandas>=0.21.1->category_encoders) (2021.1)\n",
      "Requirement already satisfied: python-dateutil>=2.7.3 in /Library/Frameworks/Python.framework/Versions/3.8/lib/python3.8/site-packages (from pandas>=0.21.1->category_encoders) (2.8.1)\n",
      "Requirement already satisfied: six in /Users/eli.seiner/Library/Python/3.8/lib/python/site-packages (from patsy>=0.5.1->category_encoders) (1.15.0)\n",
      "Requirement already satisfied: joblib>=0.11 in /Library/Frameworks/Python.framework/Versions/3.8/lib/python3.8/site-packages (from scikit-learn>=0.20.0->category_encoders) (1.1.0)\n",
      "Requirement already satisfied: threadpoolctl>=2.0.0 in /Library/Frameworks/Python.framework/Versions/3.8/lib/python3.8/site-packages (from scikit-learn>=0.20.0->category_encoders) (3.0.0)\n",
      "Installing collected packages: patsy, statsmodels, category-encoders\n",
      "Successfully installed category-encoders-2.3.0 patsy-0.5.2 statsmodels-0.13.1\n",
      "\u001b[33mWARNING: You are using pip version 21.3.1; however, version 22.0.2 is available.\n",
      "You should consider upgrading via the '/Library/Frameworks/Python.framework/Versions/3.8/bin/python3.8 -m pip install --upgrade pip' command.\u001b[0m\n"
     ]
    }
   ],
   "metadata": {}
  },
  {
   "cell_type": "code",
   "execution_count": 2,
   "source": [
    "!kaggle competitions download -c caltech-cs155-2022-mp1"
   ],
   "outputs": [
    {
     "output_type": "stream",
     "name": "stdout",
     "text": [
      "Downloading caltech-cs155-2022-mp1.zip to /Users/eli.seiner/Desktop/ML-credit-approval\n",
      " 94%|███████████████████████████████████▊  | 12.0M/12.7M [00:00<00:00, 18.1MB/s]\n",
      "100%|██████████████████████████████████████| 12.7M/12.7M [00:00<00:00, 16.9MB/s]\n"
     ]
    }
   ],
   "metadata": {}
  },
  {
   "cell_type": "code",
   "execution_count": 26,
   "source": [
    "import numpy as np\n",
    "import pandas as pd\n",
    "import sklearn\n",
    "import matplotlib.pyplot as plt\n",
    "import category_encoders as ce\n"
   ],
   "outputs": [],
   "metadata": {}
  },
  {
   "cell_type": "markdown",
   "source": [
    "Import and Parse Data"
   ],
   "metadata": {}
  },
  {
   "cell_type": "code",
   "execution_count": 33,
   "source": [
    "train_data = pd.read_csv('data/LOANS_TRAIN.csv')\n",
    "test_data = pd.read_csv('data/LOANS_TEST.csv')\n",
    "\n",
    "#Remove id column\n",
    "train_data = train_data.drop(columns=['id'])\n",
    "\n",
    "#Strip percent(%) from int_rate\n",
    "train_data['int_rate'] = train_data['int_rate'].str.rstrip('%').astype(float)\n",
    "\n",
    "#Strip percent(%) from revol_util\n",
    "train_data['revol_util'] = train_data['revol_util'].str.rstrip('%').astype(float)\n",
    "\n",
    "ce_OHE = ce.OneHotEncoder(cols=['loan_status', 'application_type', 'initial_list_status'])\n",
    "train_data = ce_OHE.fit_transform(train_data)\n",
    "\n",
    "#Replace grade with numerical value\n",
    "grades = {'A':6, 'B':5,'C':4, 'D':3, 'E':2, 'F':1}\n",
    "train_data['grade'].replace(grades, inplace=True)\n",
    "\n",
    "#Replace subgrade with numerical value\n",
    "subgrades = {\n",
    "    'A1': 6.8, 'A2': 6.6, 'A3':6.4, 'A4':6.2, 'A5':6.0,\n",
    "    'B1': 5.8, 'B2': 5.6, 'B3':5.4, 'B4':5.2, 'B5':5.0,\n",
    "    'C1': 4.8, 'C2': 4.6, 'C3':4.4, 'C4':4.2, 'C5':4.0,\n",
    "    'D1': 3.8, 'D2': 3.6, 'D3':3.4, 'D4':3.2, 'D5':3.0,\n",
    "    'E1': 2.8, 'E2': 2.6, 'E3':2.4, 'E4':2.2, 'E5':2.0,\n",
    "    'F1': 1.8, 'F2': 1.6, 'F3':1.4, 'F4':1.2, 'F5':1.0\n",
    "}\n",
    "train_data['sub_grade'].replace(subgrades, inplace=True)\n",
    "\n",
    "#Replace home_ownership with numerical values\n",
    "ownership = {'RENT': -3, 'MORTGAGE': -1, 'OWN': 1}\n",
    "train_data['home_ownership'].replace(ownership, inplace=True)\n",
    "\n",
    "print(train_data[:2])"
   ],
   "outputs": [
    {
     "output_type": "stream",
     "name": "stdout",
     "text": [
      "   loan_amnt  term_(months)  int_rate  installment grade sub_grade emp_title  \\\n",
      "0       5000             36     10.65       162.87     5       5.6       NaN   \n",
      "1       2500             60     15.27        59.83     4       4.2     Ryder   \n",
      "\n",
      "  emp_length home_ownership  annual_inc  ... revol_bal revol_util total_acc  \\\n",
      "0  10+ years             -3     24000.0  ...     13648       83.7         9   \n",
      "1   < 1 year             -3     30000.0  ...      1687        9.4         4   \n",
      "\n",
      "  initial_list_status_1 initial_list_status_2 application_type_1  mort_acc  \\\n",
      "0                     1                     0                  1       NaN   \n",
      "1                     1                     0                  1       NaN   \n",
      "\n",
      "  pub_rec_bankruptcies  loan_status_1  loan_status_2  \n",
      "0                  0.0              1              0  \n",
      "1                  0.0              0              1  \n",
      "\n",
      "[2 rows x 30 columns]\n"
     ]
    }
   ],
   "metadata": {}
  },
  {
   "cell_type": "code",
   "execution_count": null,
   "source": [
    "print(train_data.values[0])\n",
    "print(train_data.values[0][5])\n",
    "count = 0\n",
    "\n",
    "correct = 0\n",
    "total = 0\n",
    "for datapoint in train_data.values:\n",
    "    credit_score = datapoint[5]\n",
    "    outcome = datapoint[-1]\n",
    "    if outcome == \"Fully Paid\":\n",
    "        ground_truth = 1\n",
    "    else:\n",
    "        ground_truth = 0\n",
    "    if credit_score == \"A\" or credit_score == \"B\":\n",
    "        prediction = 1\n",
    "    else:\n",
    "        prediction = 0\n",
    "    if ground_truth == prediction:\n",
    "        correct += 1\n",
    "    total += 1\n",
    "print(f\"ACCURACY: {correct/total}\")\n",
    "\n",
    "\n"
   ],
   "outputs": [],
   "metadata": {}
  }
 ],
 "metadata": {
  "interpreter": {
   "hash": "cadefa720d1a2267f4d12d08d812560a64cfe891877bc388bf0e8af3e4846067"
  },
  "kernelspec": {
   "name": "python3",
   "display_name": "Python 3.8.5 64-bit"
  },
  "language_info": {
   "codemirror_mode": {
    "name": "ipython",
    "version": 3
   },
   "file_extension": ".py",
   "mimetype": "text/x-python",
   "name": "python",
   "nbconvert_exporter": "python",
   "pygments_lexer": "ipython3",
   "version": "3.8.5"
  },
  "orig_nbformat": 4
 },
 "nbformat": 4,
 "nbformat_minor": 2
}