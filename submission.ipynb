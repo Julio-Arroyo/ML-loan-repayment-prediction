{
 "cells": [
  {
   "cell_type": "code",
   "execution_count": 2,
   "source": [
    "# !pip install kaggle\n",
    "# !cd ~/.kaggle\n",
    "# !mv ~/Downloads/kaggle.json ./\n",
    "# !chmod 600 ./kaggle.json\n"
   ],
   "outputs": [],
   "metadata": {}
  },
  {
   "cell_type": "code",
   "execution_count": 2,
   "source": [
    "!kaggle competitions download -c caltech-cs155-2022-mp1"
   ],
   "outputs": [
    {
     "output_type": "stream",
     "name": "stdout",
     "text": [
      "Downloading caltech-cs155-2022-mp1.zip to /Users/eli.seiner/Desktop/ML-credit-approval\n",
      " 94%|███████████████████████████████████▊  | 12.0M/12.7M [00:00<00:00, 18.1MB/s]\n",
      "100%|██████████████████████████████████████| 12.7M/12.7M [00:00<00:00, 16.9MB/s]\n"
     ]
    }
   ],
   "metadata": {}
  },
  {
   "cell_type": "code",
   "execution_count": 3,
   "source": [
    "import numpy as np\n",
    "import pandas as pd\n",
    "import sklearn\n",
    "import matplotlib.pyplot as plt\n"
   ],
   "outputs": [],
   "metadata": {}
  },
  {
   "cell_type": "markdown",
   "source": [
    "Import and Parse Data"
   ],
   "metadata": {}
  },
  {
   "cell_type": "code",
   "execution_count": 24,
   "source": [
    "train_data = pd.read_csv('data/LOANS_TRAIN.csv')\n",
    "test_data = pd.read_csv('data/LOANS_TEST.csv')\n",
    "\n",
    "#Strip percent(%) from int_rate\n",
    "train_data['int_rate'] = train_data['int_rate'].str.rstrip('%').astype(float)\n",
    "\n",
    "#Strip percent(%) from revol_util\n",
    "train_data['revol_util'] = train_data['revol_util'].str.rstrip('%').astype(float)\n",
    "\n",
    "#Replace grade with numerical value\n",
    "grades = {'A':6, 'B':5,'C':4, 'D':3, 'E':2, 'F':1}\n",
    "train_data['grade'].replace(grades, inplace=True)\n",
    "\n",
    "#Replace subgrade with numerical value\n",
    "subgrades = {\n",
    "    'A1': 6.8, 'A2': 6.6, 'A3':6.4, 'A4':6.2, 'A5':6.0,\n",
    "    'B1': 5.8, 'B2': 5.6, 'B3':5.4, 'B4':5.2, 'B5':5.0,\n",
    "    'C1': 4.8, 'C2': 4.6, 'C3':4.4, 'C4':4.2, 'C5':4.0,\n",
    "    'D1': 3.8, 'D2': 3.6, 'D3':3.4, 'D4':3.2, 'D5':3.0,\n",
    "    'E1': 2.8, 'E2': 2.6, 'E3':2.4, 'E4':2.2, 'E5':2.0,\n",
    "    'F1': 1.8, 'F2': 1.6, 'F3':1.4, 'F4':1.2, 'F5':1.0\n",
    "}\n",
    "train_data['sub_grade'].replace(subgrades, inplace=True)\n",
    "\n",
    "#Replace home_ownership with numerical values\n",
    "ownership = {'RENT': -3, 'MORTGAGE': -1, 'OWN': 1}\n",
    "train_data['home_ownership'].replace(ownership, inplace=True)\n",
    "\n",
    "print(train_data[:2])"
   ],
   "outputs": [
    {
     "output_type": "stream",
     "name": "stdout",
     "text": [
      "   id  loan_amnt  term_(months)  int_rate  installment grade sub_grade  \\\n",
      "0   0       5000             36     10.65       162.87     5       5.6   \n",
      "1   1       2500             60     15.27        59.83     4       4.2   \n",
      "\n",
      "  emp_title emp_length home_ownership  ...  open_acc pub_rec revol_bal  \\\n",
      "0       NaN  10+ years             -3  ...         3       0     13648   \n",
      "1     Ryder   < 1 year             -3  ...         3       0      1687   \n",
      "\n",
      "  revol_util total_acc initial_list_status application_type  mort_acc  \\\n",
      "0       83.7         9                   f       Individual       NaN   \n",
      "1        9.4         4                   f       Individual       NaN   \n",
      "\n",
      "  pub_rec_bankruptcies  loan_status  \n",
      "0                  0.0   Fully Paid  \n",
      "1                  0.0  Charged Off  \n",
      "\n",
      "[2 rows x 29 columns]\n"
     ]
    }
   ],
   "metadata": {}
  },
  {
   "cell_type": "code",
   "execution_count": null,
   "source": [
    "print(train_data.values[0])\n",
    "print(train_data.values[0][5])\n",
    "count = 0\n",
    "\n",
    "correct = 0\n",
    "total = 0\n",
    "for datapoint in train_data.values:\n",
    "    credit_score = datapoint[5]\n",
    "    outcome = datapoint[-1]\n",
    "    if outcome == \"Fully Paid\":\n",
    "        ground_truth = 1\n",
    "    else:\n",
    "        ground_truth = 0\n",
    "    if credit_score == \"A\" or credit_score == \"B\":\n",
    "        prediction = 1\n",
    "    else:\n",
    "        prediction = 0\n",
    "    if ground_truth == prediction:\n",
    "        correct += 1\n",
    "    total += 1\n",
    "print(f\"ACCURACY: {correct/total}\")\n",
    "\n",
    "\n"
   ],
   "outputs": [],
   "metadata": {}
  }
 ],
 "metadata": {
  "interpreter": {
   "hash": "cadefa720d1a2267f4d12d08d812560a64cfe891877bc388bf0e8af3e4846067"
  },
  "kernelspec": {
   "name": "python3",
   "display_name": "Python 3.8.5 64-bit"
  },
  "language_info": {
   "codemirror_mode": {
    "name": "ipython",
    "version": 3
   },
   "file_extension": ".py",
   "mimetype": "text/x-python",
   "name": "python",
   "nbconvert_exporter": "python",
   "pygments_lexer": "ipython3",
   "version": "3.8.5"
  },
  "orig_nbformat": 4
 },
 "nbformat": 4,
 "nbformat_minor": 2
}