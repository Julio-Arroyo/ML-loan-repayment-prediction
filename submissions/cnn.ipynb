{
 "cells": [
  {
   "cell_type": "code",
   "execution_count": 1,
   "metadata": {},
   "outputs": [
    {
     "name": "stderr",
     "output_type": "stream",
     "text": [
      "/Users/jarroyo/miniforge3/lib/python3.9/site-packages/xgboost/compat.py:36: FutureWarning: pandas.Int64Index is deprecated and will be removed from pandas in a future version. Use pandas.Index with the appropriate dtype instead.\n",
      "  from pandas import MultiIndex, Int64Index\n",
      "/Users/jarroyo/miniforge3/lib/python3.9/site-packages/statsmodels/compat/pandas.py:65: FutureWarning: pandas.Int64Index is deprecated and will be removed from pandas in a future version. Use pandas.Index with the appropriate dtype instead.\n",
      "  from pandas import Int64Index as NumericIndex\n"
     ]
    }
   ],
   "source": [
    "import numpy as np\n",
    "import xgboost as xgb\n",
    "import pandas as pd\n",
    "import sklearn\n",
    "from sklearn.preprocessing import LabelEncoder\n",
    "from sklearn import metrics\n",
    "from sklearn.model_selection import GridSearchCV\n",
    "from sklearn.utils.multiclass import unique_labels\n",
    "import category_encoders as ce"
   ]
  },
  {
   "cell_type": "markdown",
   "metadata": {},
   "source": [
    "Convert data to numeric:\n",
    "- ordinal variables encoded as"
   ]
  },
  {
   "cell_type": "code",
   "execution_count": 2,
   "metadata": {},
   "outputs": [
    {
     "name": "stdout",
     "output_type": "stream",
     "text": [
      "BEFORE\n",
      "(197250, 23)\n",
      "loan_amnt                      5000\n",
      "term_(months)                    36\n",
      "int_rate                     10.65%\n",
      "installment                  162.87\n",
      "sub_grade                        B2\n",
      "emp_length                10+ years\n",
      "home_ownership                 RENT\n",
      "annual_inc                  24000.0\n",
      "verification_status        Verified\n",
      "purpose                 credit_card\n",
      "zip_code                      860xx\n",
      "addr_state                       AZ\n",
      "dti                           27.65\n",
      "open_acc                          3\n",
      "pub_rec                           0\n",
      "revol_bal                     13648\n",
      "revol_util                    83.7%\n",
      "total_acc                         9\n",
      "initial_list_status               f\n",
      "application_type         Individual\n",
      "mort_acc                        NaN\n",
      "pub_rec_bankruptcies            0.0\n",
      "loan_status              Fully Paid\n",
      "Name: 0, dtype: object\n",
      "AFTER\n",
      "(197250, 76)\n",
      "Index(['loan_amnt', 'term_(months)', 'int_rate', 'installment', 'sub_grade',\n",
      "       'emp_length', 'home_ownership_1', 'home_ownership_2',\n",
      "       'home_ownership_3', 'home_ownership_4', 'home_ownership_5',\n",
      "       'annual_inc', 'verification_status', 'purpose', 'zip_code',\n",
      "       'addr_state_1', 'addr_state_2', 'addr_state_3', 'addr_state_4',\n",
      "       'addr_state_5', 'addr_state_6', 'addr_state_7', 'addr_state_8',\n",
      "       'addr_state_9', 'addr_state_10', 'addr_state_11', 'addr_state_12',\n",
      "       'addr_state_13', 'addr_state_14', 'addr_state_15', 'addr_state_16',\n",
      "       'addr_state_17', 'addr_state_18', 'addr_state_19', 'addr_state_20',\n",
      "       'addr_state_21', 'addr_state_22', 'addr_state_23', 'addr_state_24',\n",
      "       'addr_state_25', 'addr_state_26', 'addr_state_27', 'addr_state_28',\n",
      "       'addr_state_29', 'addr_state_30', 'addr_state_31', 'addr_state_32',\n",
      "       'addr_state_33', 'addr_state_34', 'addr_state_35', 'addr_state_36',\n",
      "       'addr_state_37', 'addr_state_38', 'addr_state_39', 'addr_state_40',\n",
      "       'addr_state_41', 'addr_state_42', 'addr_state_43', 'addr_state_44',\n",
      "       'addr_state_45', 'addr_state_46', 'addr_state_47', 'addr_state_48',\n",
      "       'addr_state_49', 'addr_state_50', 'dti', 'open_acc', 'pub_rec',\n",
      "       'revol_bal', 'revol_util', 'total_acc', 'initial_list_status',\n",
      "       'application_type', 'mort_acc', 'pub_rec_bankruptcies', 'loan_status'],\n",
      "      dtype='object')\n"
     ]
    }
   ],
   "source": [
    "train_data = pd.read_csv('../data/LOANS_TRAIN.csv')\n",
    "test_data = pd.read_csv('../data/LOANS_TEST.csv')\n",
    "\n",
    "id_column = test_data['id']\n",
    "\n",
    "train_data.drop(columns=['id','grade', 'emp_title', 'title', 'earliest_cr_line', 'issue_d'], axis=1, inplace=True)\n",
    "test_data.drop(columns=['id','grade', 'emp_title', 'title', 'earliest_cr_line', 'issue_d'], axis=1, inplace=True)\n",
    "\n",
    "# we want to ultimately use this data, but its nominal multi-categorical nature requires further preprocessing\n",
    "# prolly with OneHotEncoder\n",
    "    # Deal with nominal, multi-categorical data\n",
    "    # Goal: convert home_ownership (RENT, OWN, MORTGAGE, OTHER) to a 4D vector.\n",
    "        # if MORTGAGE ==> [0,0,1,0]\n",
    "# print(len(train_data['zip_code'].unique()))\n",
    "# print(train_data['zip_code'].unique())\n",
    "ce_OHE = ce.OneHotEncoder(cols=['addr_state', 'home_ownership', 'zip_code'])\n",
    "print('BEFORE')\n",
    "print(train_data.shape)\n",
    "print(train_data.iloc[0])\n",
    "train_data = ce_OHE.fit_transform(train_data)\n",
    "print('AFTER')\n",
    "print(train_data.shape)\n",
    "print(train_data.keys())\n",
    "test_data = ce_OHE.fit_transform(test_data)\n",
    "train_data.drop(columns=['purpose'], axis=1, inplace=True)\n",
    "test_data.drop(columns=['purpose'], axis=1, inplace=True)\n",
    "# NOTE: 'purpose' only has 14 categories, probably good things to learn from\n",
    "\n",
    "# there are no joint applications in training, so model won't be able to learn it. Better to drop it\n",
    "train_data.drop(columns=['application_type'], axis=1, inplace=True)\n",
    "test_data.drop(columns=['application_type'], axis=1, inplace=True)\n",
    "\n",
    "labelencoder = LabelEncoder()\n",
    "labelencoder2 = LabelEncoder()\n",
    "# Assigning numerical values and storing in another column\n",
    "train_data['sub_grade'] = labelencoder.fit_transform(train_data['sub_grade'])\n",
    "train_data['emp_length'].replace('< 1 year', 0, inplace=True)\n",
    "train_data['emp_length'].replace('1 year', 1.0, inplace=True)\n",
    "train_data['emp_length'].replace('2 years', 2.0, inplace=True)\n",
    "train_data['emp_length'].replace('3 years', 3.0, inplace=True)\n",
    "train_data['emp_length'].replace('4 years', 4.0, inplace=True)\n",
    "train_data['emp_length'].replace('5 years', 5.0, inplace=True)\n",
    "train_data['emp_length'].replace('6 years', 6.0, inplace=True)\n",
    "train_data['emp_length'].replace('7 years', 7.0, inplace=True)\n",
    "train_data['emp_length'].replace('8 years', 8.0, inplace=True)\n",
    "train_data['emp_length'].replace('9 years', 9.0, inplace=True)\n",
    "train_data['emp_length'].replace('10 years', 10.0, inplace=True)\n",
    "train_data['emp_length'].replace('10+ years', 15.0, inplace=True)\n",
    "train_data['emp_length'] = train_data['emp_length'].fillna(0)\n",
    "train_data['pub_rec_bankruptcies'] = train_data['pub_rec_bankruptcies'].fillna(0)\n",
    "train_data['verification_status'].replace('Verified', 1, inplace=True)\n",
    "train_data['verification_status'].replace('Source Verified', 1, inplace=True)\n",
    "train_data['verification_status'].replace('Not Verified', 0, inplace=True)\n",
    "train_data['initial_list_status'].replace('w', 1, inplace=True)\n",
    "train_data['initial_list_status'].replace('f', 0, inplace=True)\n",
    "\n",
    "test_data['sub_grade'] = labelencoder2.fit_transform(test_data['sub_grade'])\n",
    "test_data['emp_length'].replace('< 1 year', 0, inplace=True)\n",
    "test_data['emp_length'].replace('1 year', 1.0, inplace=True)\n",
    "test_data['emp_length'].replace('2 years', 2.0, inplace=True)\n",
    "test_data['emp_length'].replace('3 years', 3.0, inplace=True)\n",
    "test_data['emp_length'].replace('4 years', 4.0, inplace=True)\n",
    "test_data['emp_length'].replace('5 years', 5.0, inplace=True)\n",
    "test_data['emp_length'].replace('6 years', 6.0, inplace=True)\n",
    "test_data['emp_length'].replace('7 years', 7.0, inplace=True)\n",
    "test_data['emp_length'].replace('8 years', 8.0, inplace=True)\n",
    "test_data['emp_length'].replace('9 years', 9.0, inplace=True)\n",
    "test_data['emp_length'].replace('10 years', 10.0, inplace=True)\n",
    "test_data['emp_length'].replace('10+ years', 15.0, inplace=True)\n",
    "test_data['emp_length'] = test_data['emp_length'].fillna(0)\n",
    "test_data['pub_rec_bankruptcies'] = test_data['pub_rec_bankruptcies'].fillna(0)\n",
    "test_data['verification_status'].replace('Verified', 1, inplace=True)\n",
    "# technically encoding two categories into one... might want to change\n",
    "test_data['verification_status'].replace('Verified', 1, inplace=True)\n",
    "test_data['verification_status'].replace('Source Verified', 1, inplace=True)\n",
    "test_data['verification_status'].replace('Not Verified', 0, inplace=True)\n",
    "test_data['initial_list_status'].replace('w', 1, inplace=True)\n",
    "test_data['initial_list_status'].replace('f', 0, inplace=True)\n",
    "\n",
    "train_data['mort_acc'] = train_data['mort_acc'].fillna(0)\n",
    "\n",
    "test_data['mort_acc'] = test_data['mort_acc'].fillna(0)\n",
    "# Strip percent(%) from int_rate\n",
    "train_data['int_rate'] = train_data['int_rate'].str.rstrip('%').astype(float)\n",
    "test_data['int_rate'] = test_data['int_rate'].str.rstrip('%').astype(float)\n",
    "\n",
    "#Strip percent(%) from revol_util\n",
    "train_data['revol_util'] = train_data['revol_util'].str.rstrip('%').astype(float)\n",
    "test_data['revol_util'] = test_data['revol_util'].str.rstrip('%').astype(float)\n",
    "train_data['revol_util'] = train_data['revol_util'].fillna(0)\n",
    "test_data['revol_util'] = test_data['revol_util'].fillna(0)\n",
    "\n",
    "X_train = train_data.iloc[:,:-1]\n",
    "y_train = train_data.iloc[:,-1]\n",
    "X_test = test_data.iloc[:,:]\n",
    "X_train_numeric = X_train.select_dtypes(include=np.number)\n",
    "X_test_numeric = X_test.select_dtypes(include=np.number)\n",
    "# y_train_numeric = y_train.select_dtypes(include=np.number)\n",
    "y_train_numeric = y_train.copy(deep=False)\n",
    "y_train_numeric.replace('Fully Paid', 0.0, inplace=True)\n",
    "y_train_numeric.replace('Charged Off', 1.0, inplace=True)\n"
   ]
  },
  {
   "cell_type": "markdown",
   "metadata": {},
   "source": [
    "CNNs take vectors with values in [0,1]. Here we normalize the numberical data accordingly with min-max normalization.\n",
    "Standardize an arbitrary feature X by using\n",
    "\n",
    "X' = (X - X_min)/(X_max - X_min)"
   ]
  },
  {
   "cell_type": "code",
   "execution_count": 3,
   "metadata": {},
   "outputs": [],
   "source": [
    "for col in X_train_numeric.columns:\n",
    "    if X_train_numeric[col].isnull().values.any() > 0:\n",
    "        print(col)\n",
    "    x_min = X_train_numeric[col].min()\n",
    "    x_max = X_train_numeric[col].max()\n",
    "    X_train_numeric[col] = (X_train_numeric[col] - x_min) / (x_max - x_min)\n",
    "    # also need to normalize test data, but must use training data\n",
    "    X_test_numeric[col] = (X_test_numeric[col] - x_min) / (x_max - x_min)\n",
    "    X_test_numeric[col].mask(X_test_numeric[col] < 0, 0, inplace=True)\n",
    "    X_test_numeric[col].mask(X_test_numeric[col] > 1, 1, inplace=True)\n",
    "    # TODO: DETERMINE WHAT TO DO IN THESE CASES!!!\n",
    "    if X_test_numeric[col].min() < 0:\n",
    "        print(f\"min is less than zero in test data in column {col}\")\n",
    "        print(X_test_numeric[col].min())\n",
    "    if X_test_numeric[col].max() > 1:\n",
    "        print(f\"max is more than one in test data in column {col}\")\n",
    "        print(X_test_numeric[col].max())"
   ]
  },
  {
   "cell_type": "code",
   "execution_count": 4,
   "metadata": {},
   "outputs": [],
   "source": [
    "import torch.nn as nn\n",
    "\n",
    "\n",
    "model = nn.Sequential(\n",
    "    nn.Conv2d(in_channels=1, out_channels=64, kernel_size=(1, 3), stride=1, padding=0),\n",
    "    nn.BatchNorm2d(64),\n",
    "    nn.ReLU(inplace=True),\n",
    "    nn.MaxPool2d(kernel_size=(1, 2), stride=1),\n",
    "    nn.Conv2d(in_channels=64, out_channels=64, kernel_size=(1, 3), stride=1, padding=0),\n",
    "    nn.BatchNorm2d(64),\n",
    "    nn.ReLU(inplace=True),\n",
    "    nn.MaxPool2d(kernel_size=(1, 2), stride=1),\n",
    "    nn.Flatten(),\n",
    "    nn.Linear(4224, 512),\n",
    "    nn.ReLU(),\n",
    "    nn.Dropout(p=0.25),\n",
    "    nn.Linear(512, 1),\n",
    "    nn.Sigmoid()\n",
    ")"
   ]
  },
  {
   "cell_type": "code",
   "execution_count": 5,
   "metadata": {},
   "outputs": [
    {
     "name": "stdout",
     "output_type": "stream",
     "text": [
      "total params: 2176577\n"
     ]
    }
   ],
   "source": [
    "# our model has some # of parameters:\n",
    "count = 0\n",
    "for p in model.parameters():\n",
    "    n_params = np.prod(list(p.data.shape)).item()\n",
    "    count += n_params\n",
    "print(f'total params: {count}')"
   ]
  },
  {
   "cell_type": "code",
   "execution_count": 6,
   "metadata": {},
   "outputs": [],
   "source": [
    "import torch.optim as optim\n",
    "criterion = nn.BCELoss()\n",
    "optimizer = optim.Adam(model.parameters())"
   ]
  },
  {
   "cell_type": "code",
   "execution_count": 7,
   "metadata": {},
   "outputs": [
    {
     "name": "stdout",
     "output_type": "stream",
     "text": [
      "[[0.13043478 0.         0.25339147 ... 0.         0.         0.        ]\n",
      " [0.05797101 1.         0.47722868 ... 0.         0.         0.        ]\n",
      " [0.05507246 0.         0.51065891 ... 0.         0.         0.        ]\n",
      " ...\n",
      " [0.30434783 0.         0.42005814 ... 0.         0.         0.        ]\n",
      " [0.89565217 1.         0.84932171 ... 0.         0.12903226 0.        ]\n",
      " [0.14492754 0.         0.42005814 ... 0.         0.         0.        ]]\n"
     ]
    }
   ],
   "source": [
    "print(X_train_numeric.values)"
   ]
  },
  {
   "cell_type": "markdown",
   "metadata": {},
   "source": [
    "Need a Dataset object, which we make from the dataframes"
   ]
  },
  {
   "cell_type": "code",
   "execution_count": 8,
   "metadata": {},
   "outputs": [],
   "source": [
    "# Custom Dataset\n",
    "from torch.utils.data import Dataset\n",
    "import torch\n",
    "\n",
    "\n",
    "class CustomDataset(Dataset):\n",
    "    def __init__(self, X, Y):\n",
    "        \"\"\"\n",
    "        X: a dataframe with rows as training examples and columns features\n",
    "        Y: a pandas series with labels\"\"\"\n",
    "        self.x_train=torch.tensor(X.values, dtype=torch.float32)\n",
    "        self.y_train=torch.tensor(Y.values, dtype=torch.float32)\n",
    "        self.x_train = torch.reshape(self.x_train, (self.x_train.shape[0], 1, 1, self.x_train.shape[1],))\n",
    "\n",
    "    def __len__(self):\n",
    "        return len(self.y_train)\n",
    "\n",
    "    def __getitem__(self,idx):\n",
    "        return (self.x_train[idx], self.y_train[idx])"
   ]
  },
  {
   "cell_type": "markdown",
   "metadata": {},
   "source": [
    "Make the dataloaders"
   ]
  },
  {
   "cell_type": "code",
   "execution_count": 9,
   "metadata": {},
   "outputs": [],
   "source": [
    "from torch.utils.data import DataLoader, random_split\n",
    "\n",
    "BATCH_SIZE = 512\n",
    "\n",
    "ds_train = CustomDataset(X_train_numeric, y_train_numeric)\n",
    "len_full = len(ds_train)\n",
    "len_train = int(0.8*len(ds_train))\n",
    "len_val = len_full - len_train\n",
    "ds_train, ds_val = random_split(ds_train, [len_train, len_val])\n",
    "train_loader = DataLoader(ds_train, batch_size=BATCH_SIZE, shuffle=True)\n",
    "val_loader = DataLoader(ds_val, batch_size=BATCH_SIZE, shuffle=True)\n",
    "val_eval_loader = DataLoader(ds_val, batch_size=len_val, shuffle=False)"
   ]
  },
  {
   "cell_type": "code",
   "execution_count": 10,
   "metadata": {},
   "outputs": [
    {
     "name": "stdout",
     "output_type": "stream",
     "text": [
      "EPOCH 0\n"
     ]
    },
    {
     "ename": "KeyboardInterrupt",
     "evalue": "",
     "output_type": "error",
     "traceback": [
      "\u001b[0;31m---------------------------------------------------------------------------\u001b[0m",
      "\u001b[0;31mKeyboardInterrupt\u001b[0m                         Traceback (most recent call last)",
      "\u001b[0;32m/var/folders/x2/kz7ljbl93cs7d61qrkfn3js00000gn/T/ipykernel_54879/238916445.py\u001b[0m in \u001b[0;36m<module>\u001b[0;34m\u001b[0m\n\u001b[1;32m     22\u001b[0m         \u001b[0mloss\u001b[0m \u001b[0;34m=\u001b[0m \u001b[0mcriterion\u001b[0m\u001b[0;34m(\u001b[0m\u001b[0moutput\u001b[0m\u001b[0;34m,\u001b[0m \u001b[0mlabels\u001b[0m\u001b[0;34m)\u001b[0m\u001b[0;34m\u001b[0m\u001b[0;34m\u001b[0m\u001b[0m\n\u001b[1;32m     23\u001b[0m         \u001b[0;31m# backward pass\u001b[0m\u001b[0;34m\u001b[0m\u001b[0;34m\u001b[0m\u001b[0;34m\u001b[0m\u001b[0m\n\u001b[0;32m---> 24\u001b[0;31m         \u001b[0mloss\u001b[0m\u001b[0;34m.\u001b[0m\u001b[0mbackward\u001b[0m\u001b[0;34m(\u001b[0m\u001b[0;34m)\u001b[0m\u001b[0;34m\u001b[0m\u001b[0;34m\u001b[0m\u001b[0m\n\u001b[0m\u001b[1;32m     25\u001b[0m         \u001b[0;31m# update\u001b[0m\u001b[0;34m\u001b[0m\u001b[0;34m\u001b[0m\u001b[0;34m\u001b[0m\u001b[0m\n\u001b[1;32m     26\u001b[0m         \u001b[0moptimizer\u001b[0m\u001b[0;34m.\u001b[0m\u001b[0mstep\u001b[0m\u001b[0;34m(\u001b[0m\u001b[0;34m)\u001b[0m\u001b[0;34m\u001b[0m\u001b[0;34m\u001b[0m\u001b[0m\n",
      "\u001b[0;32m~/miniforge3/lib/python3.9/site-packages/torch/tensor.py\u001b[0m in \u001b[0;36mbackward\u001b[0;34m(self, gradient, retain_graph, create_graph, inputs)\u001b[0m\n\u001b[1;32m    243\u001b[0m                 \u001b[0mcreate_graph\u001b[0m\u001b[0;34m=\u001b[0m\u001b[0mcreate_graph\u001b[0m\u001b[0;34m,\u001b[0m\u001b[0;34m\u001b[0m\u001b[0;34m\u001b[0m\u001b[0m\n\u001b[1;32m    244\u001b[0m                 inputs=inputs)\n\u001b[0;32m--> 245\u001b[0;31m         \u001b[0mtorch\u001b[0m\u001b[0;34m.\u001b[0m\u001b[0mautograd\u001b[0m\u001b[0;34m.\u001b[0m\u001b[0mbackward\u001b[0m\u001b[0;34m(\u001b[0m\u001b[0mself\u001b[0m\u001b[0;34m,\u001b[0m \u001b[0mgradient\u001b[0m\u001b[0;34m,\u001b[0m \u001b[0mretain_graph\u001b[0m\u001b[0;34m,\u001b[0m \u001b[0mcreate_graph\u001b[0m\u001b[0;34m,\u001b[0m \u001b[0minputs\u001b[0m\u001b[0;34m=\u001b[0m\u001b[0minputs\u001b[0m\u001b[0;34m)\u001b[0m\u001b[0;34m\u001b[0m\u001b[0;34m\u001b[0m\u001b[0m\n\u001b[0m\u001b[1;32m    246\u001b[0m \u001b[0;34m\u001b[0m\u001b[0m\n\u001b[1;32m    247\u001b[0m     \u001b[0;32mdef\u001b[0m \u001b[0mregister_hook\u001b[0m\u001b[0;34m(\u001b[0m\u001b[0mself\u001b[0m\u001b[0;34m,\u001b[0m \u001b[0mhook\u001b[0m\u001b[0;34m)\u001b[0m\u001b[0;34m:\u001b[0m\u001b[0;34m\u001b[0m\u001b[0;34m\u001b[0m\u001b[0m\n",
      "\u001b[0;32m~/miniforge3/lib/python3.9/site-packages/torch/autograd/__init__.py\u001b[0m in \u001b[0;36mbackward\u001b[0;34m(tensors, grad_tensors, retain_graph, create_graph, grad_variables, inputs)\u001b[0m\n\u001b[1;32m    143\u001b[0m         \u001b[0mretain_graph\u001b[0m \u001b[0;34m=\u001b[0m \u001b[0mcreate_graph\u001b[0m\u001b[0;34m\u001b[0m\u001b[0;34m\u001b[0m\u001b[0m\n\u001b[1;32m    144\u001b[0m \u001b[0;34m\u001b[0m\u001b[0m\n\u001b[0;32m--> 145\u001b[0;31m     Variable._execution_engine.run_backward(\n\u001b[0m\u001b[1;32m    146\u001b[0m         \u001b[0mtensors\u001b[0m\u001b[0;34m,\u001b[0m \u001b[0mgrad_tensors_\u001b[0m\u001b[0;34m,\u001b[0m \u001b[0mretain_graph\u001b[0m\u001b[0;34m,\u001b[0m \u001b[0mcreate_graph\u001b[0m\u001b[0;34m,\u001b[0m \u001b[0minputs\u001b[0m\u001b[0;34m,\u001b[0m\u001b[0;34m\u001b[0m\u001b[0;34m\u001b[0m\u001b[0m\n\u001b[1;32m    147\u001b[0m         allow_unreachable=True, accumulate_grad=True)  # allow_unreachable flag\n",
      "\u001b[0;31mKeyboardInterrupt\u001b[0m: "
     ]
    }
   ],
   "source": [
    "n_epochs = 5  # paper used 100 originally\n",
    "lr = 0.001\n",
    "\n",
    "train_loss_hist = np.zeros([n_epochs, 1])\n",
    "val_loss_hist = np.zeros([n_epochs, 1])\n",
    "for epoch in range(n_epochs):\n",
    "    print(f'EPOCH {epoch}')\n",
    "    model.train()\n",
    "    train_loss = 0\n",
    "    for i, data in enumerate(train_loader):\n",
    "        features, labels = data\n",
    "        # print(type(features))\n",
    "        # print(f\"PESKY BASTARDS: {features.isnan().sum()}\")\n",
    "        optimizer.zero_grad()\n",
    "        # forward pass\n",
    "        output = model(features)\n",
    "        output = torch.reshape(output, (output.shape[0], ))\n",
    "        if output.isnan().sum() > 0:\n",
    "            print(f\"RIP{output.isnan().sum()}\")\n",
    "        output = torch.nan_to_num(output)\n",
    "        # calculate loss\n",
    "        loss = criterion(output, labels)\n",
    "        # backward pass\n",
    "        loss.backward()\n",
    "        # update\n",
    "        optimizer.step()\n",
    "        # track training loss\n",
    "        train_loss_hist[epoch] += loss.item()\n",
    "    train_loss_hist[epoch] /= len(train_loader)\n",
    "    print(f\"\\ttraining loss: {train_loss_hist[epoch]}\")\n",
    "\n",
    "    # validate\n",
    "    with torch.no_grad():\n",
    "        model.eval()\n",
    "        output = None\n",
    "        labels = None\n",
    "        for i, data in enumerate(val_eval_loader):\n",
    "            features, labels = data\n",
    "            output = model(features)\n",
    "            output = torch.reshape(output, (output.shape[0], ))\n",
    "            output = torch.nan_to_num(output)\n",
    "            loss = criterion(output, labels)\n",
    "            val_loss_hist[epoch] += loss.item()\n",
    "        preds = output.cpu().detach().numpy()\n",
    "        ground_truths = labels.cpu().detach().numpy()\n",
    "        print(f'\\tAUC: {sklearn.metrics.roc_auc_score(ground_truths, preds)}')\n",
    "        val_loss_hist[epoch] /= len(val_eval_loader)\n",
    "        print(f\"\\tvalidation loss: {val_loss_hist[epoch]}\")"
   ]
  },
  {
   "cell_type": "code",
   "execution_count": null,
   "metadata": {},
   "outputs": [
    {
     "name": "stdout",
     "output_type": "stream",
     "text": [
      "0\n",
      "AUC: 0.6812805903216952\n"
     ]
    }
   ],
   "source": [
    "import torch\n",
    "\n",
    "with torch.no_grad():\n",
    "    model.eval()\n",
    "    for i, data in enumerate(val_eval_loader):\n",
    "        print(i)\n",
    "        features, labels = data\n",
    "        output = model(features)\n",
    "        output = torch.reshape(output, (output.shape[0], ))\n",
    "        # output = torch.nan_to_num(output)\n",
    "        preds = output.cpu().detach().numpy()\n",
    "        ground_truths = labels.cpu().detach().numpy()\n",
    "        print(f'AUC: {sklearn.metrics.roc_auc_score(ground_truths, preds)}')\n",
    "        "
   ]
  }
 ],
 "metadata": {
  "interpreter": {
   "hash": "4b5295d72cc8c3d140bbb6686d5919ce0ad0a523816efde1e1cd082b7d39dbc7"
  },
  "kernelspec": {
   "display_name": "Python 3.9.5 ('base')",
   "language": "python",
   "name": "python3"
  },
  "language_info": {
   "codemirror_mode": {
    "name": "ipython",
    "version": 3
   },
   "file_extension": ".py",
   "mimetype": "text/x-python",
   "name": "python",
   "nbconvert_exporter": "python",
   "pygments_lexer": "ipython3",
   "version": "3.9.5"
  },
  "orig_nbformat": 4
 },
 "nbformat": 4,
 "nbformat_minor": 2
}
