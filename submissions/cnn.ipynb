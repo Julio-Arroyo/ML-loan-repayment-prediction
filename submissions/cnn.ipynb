{
 "cells": [
  {
   "cell_type": "code",
   "execution_count": 1,
   "metadata": {},
   "outputs": [
    {
     "name": "stderr",
     "output_type": "stream",
     "text": [
      "/Users/jarroyo/miniforge3/lib/python3.9/site-packages/xgboost/compat.py:36: FutureWarning: pandas.Int64Index is deprecated and will be removed from pandas in a future version. Use pandas.Index with the appropriate dtype instead.\n",
      "  from pandas import MultiIndex, Int64Index\n",
      "/Users/jarroyo/miniforge3/lib/python3.9/site-packages/statsmodels/compat/pandas.py:65: FutureWarning: pandas.Int64Index is deprecated and will be removed from pandas in a future version. Use pandas.Index with the appropriate dtype instead.\n",
      "  from pandas import Int64Index as NumericIndex\n"
     ]
    }
   ],
   "source": [
    "import numpy as np\n",
    "import xgboost as xgb\n",
    "import pandas as pd\n",
    "import sklearn\n",
    "from sklearn.preprocessing import LabelEncoder\n",
    "from sklearn import metrics\n",
    "from sklearn.model_selection import GridSearchCV\n",
    "from sklearn.utils.multiclass import unique_labels\n",
    "import category_encoders as ce\n",
    "from sklearn.model_selection import KFold"
   ]
  },
  {
   "cell_type": "markdown",
   "metadata": {},
   "source": [
    "Convert data to numeric:\n",
    "- ordinal variables encoded as"
   ]
  },
  {
   "cell_type": "code",
   "execution_count": 2,
   "metadata": {},
   "outputs": [
    {
     "name": "stdout",
     "output_type": "stream",
     "text": [
      "BEFORE\n",
      "(197250, 23)\n",
      "AFTER\n",
      "(197250, 943)\n"
     ]
    }
   ],
   "source": [
    "train_data = pd.read_csv('../data/LOANS_TRAIN.csv')\n",
    "test_data = pd.read_csv('../data/LOANS_TEST.csv')\n",
    "\n",
    "id_column = test_data['id']\n",
    "\n",
    "train_data.drop(columns=['id','grade', 'emp_title', 'title', 'earliest_cr_line', 'issue_d'], axis=1, inplace=True)\n",
    "test_data.drop(columns=['id','grade', 'emp_title', 'title', 'earliest_cr_line', 'issue_d'], axis=1, inplace=True)\n",
    "\n",
    "# we want to ultimately use this data, but its nominal multi-categorical nature requires further preprocessing\n",
    "# prolly with OneHotEncoder\n",
    "    # Deal with nominal, multi-categorical data\n",
    "    # Goal: convert home_ownership (RENT, OWN, MORTGAGE, OTHER) to a 4D vector.\n",
    "        # if MORTGAGE ==> [0,0,1,0]\n",
    "# print(len(train_data['zip_code'].unique()))\n",
    "# print(train_data['zip_code'].unique())\n",
    "ce_OHE = ce.OneHotEncoder(cols=['addr_state', 'home_ownership', 'zip_code', 'purpose'])\n",
    "print('BEFORE')\n",
    "print(train_data.shape)\n",
    "train_data = ce_OHE.fit_transform(train_data)\n",
    "print('AFTER')\n",
    "print(train_data.shape)\n",
    "test_data = ce_OHE.fit_transform(test_data)\n",
    "# NOTE: 'purpose' only has 14 categories, probably good things to learn from\n",
    "\n",
    "# there are no joint applications in training, so model won't be able to learn it. Better to drop it\n",
    "train_data.drop(columns=['application_type', 'purpose_14', 'zip_code_853', 'zip_code_854', 'zip_code_855'], axis=1, inplace=True)\n",
    "test_data.drop(columns=['application_type'], axis=1, inplace=True)\n",
    "\n",
    "\n",
    "labelencoder = LabelEncoder()\n",
    "labelencoder2 = LabelEncoder()\n",
    "# Assigning numerical values and storing in another column\n",
    "train_data['sub_grade'] = labelencoder.fit_transform(train_data['sub_grade'])\n",
    "train_data['emp_length'].replace('< 1 year', 0, inplace=True)\n",
    "train_data['emp_length'].replace('1 year', 1.0, inplace=True)\n",
    "train_data['emp_length'].replace('2 years', 2.0, inplace=True)\n",
    "train_data['emp_length'].replace('3 years', 3.0, inplace=True)\n",
    "train_data['emp_length'].replace('4 years', 4.0, inplace=True)\n",
    "train_data['emp_length'].replace('5 years', 5.0, inplace=True)\n",
    "train_data['emp_length'].replace('6 years', 6.0, inplace=True)\n",
    "train_data['emp_length'].replace('7 years', 7.0, inplace=True)\n",
    "train_data['emp_length'].replace('8 years', 8.0, inplace=True)\n",
    "train_data['emp_length'].replace('9 years', 9.0, inplace=True)\n",
    "train_data['emp_length'].replace('10 years', 10.0, inplace=True)\n",
    "train_data['emp_length'].replace('10+ years', 15.0, inplace=True)\n",
    "train_data['emp_length'] = train_data['emp_length'].fillna(0)\n",
    "train_data['pub_rec_bankruptcies'] = train_data['pub_rec_bankruptcies'].fillna(0)\n",
    "train_data['verification_status'].replace('Verified', 1, inplace=True)\n",
    "train_data['verification_status'].replace('Source Verified', 1, inplace=True)\n",
    "train_data['verification_status'].replace('Not Verified', 0, inplace=True)\n",
    "train_data['initial_list_status'].replace('w', 1, inplace=True)\n",
    "train_data['initial_list_status'].replace('f', 0, inplace=True)\n",
    "\n",
    "test_data['sub_grade'] = labelencoder2.fit_transform(test_data['sub_grade'])\n",
    "test_data['emp_length'].replace('< 1 year', 0, inplace=True)\n",
    "test_data['emp_length'].replace('1 year', 1.0, inplace=True)\n",
    "test_data['emp_length'].replace('2 years', 2.0, inplace=True)\n",
    "test_data['emp_length'].replace('3 years', 3.0, inplace=True)\n",
    "test_data['emp_length'].replace('4 years', 4.0, inplace=True)\n",
    "test_data['emp_length'].replace('5 years', 5.0, inplace=True)\n",
    "test_data['emp_length'].replace('6 years', 6.0, inplace=True)\n",
    "test_data['emp_length'].replace('7 years', 7.0, inplace=True)\n",
    "test_data['emp_length'].replace('8 years', 8.0, inplace=True)\n",
    "test_data['emp_length'].replace('9 years', 9.0, inplace=True)\n",
    "test_data['emp_length'].replace('10 years', 10.0, inplace=True)\n",
    "test_data['emp_length'].replace('10+ years', 15.0, inplace=True)\n",
    "test_data['emp_length'] = test_data['emp_length'].fillna(0)\n",
    "test_data['pub_rec_bankruptcies'] = test_data['pub_rec_bankruptcies'].fillna(0)\n",
    "test_data['verification_status'].replace('Verified', 1, inplace=True)\n",
    "# technically encoding two categories into one... might want to change\n",
    "test_data['verification_status'].replace('Verified', 1, inplace=True)\n",
    "test_data['verification_status'].replace('Source Verified', 1, inplace=True)\n",
    "test_data['verification_status'].replace('Not Verified', 0, inplace=True)\n",
    "test_data['initial_list_status'].replace('w', 1, inplace=True)\n",
    "test_data['initial_list_status'].replace('f', 0, inplace=True)\n",
    "\n",
    "train_data['mort_acc'] = train_data['mort_acc'].fillna(0)\n",
    "\n",
    "test_data['mort_acc'] = test_data['mort_acc'].fillna(0)\n",
    "# Strip percent(%) from int_rate\n",
    "train_data['int_rate'] = train_data['int_rate'].str.rstrip('%').astype(float)\n",
    "test_data['int_rate'] = test_data['int_rate'].str.rstrip('%').astype(float)\n",
    "\n",
    "#Strip percent(%) from revol_util\n",
    "train_data['revol_util'] = train_data['revol_util'].str.rstrip('%').astype(float)\n",
    "test_data['revol_util'] = test_data['revol_util'].str.rstrip('%').astype(float)\n",
    "train_data['revol_util'] = train_data['revol_util'].fillna(0)\n",
    "test_data['revol_util'] = test_data['revol_util'].fillna(0)\n",
    "\n",
    "X_train = train_data.iloc[:,:-1]\n",
    "y_train = train_data.iloc[:,-1]\n",
    "X_test = test_data.iloc[:,:]\n",
    "X_train_numeric = X_train.select_dtypes(include=np.number)\n",
    "X_test_numeric = X_test.select_dtypes(include=np.number)\n",
    "# y_train_numeric = y_train.select_dtypes(include=np.number)\n",
    "y_train_numeric = y_train.copy(deep=False)\n",
    "y_train_numeric.replace('Fully Paid', 0.0, inplace=True)\n",
    "y_train_numeric.replace('Charged Off', 1.0, inplace=True)\n"
   ]
  },
  {
   "cell_type": "markdown",
   "metadata": {},
   "source": [
    "CNNs take vectors with values in [0,1]. Here we normalize the numberical data accordingly with min-max normalization.\n",
    "Standardize an arbitrary feature X by using\n",
    "\n",
    "X' = (X - X_min)/(X_max - X_min)"
   ]
  },
  {
   "cell_type": "code",
   "execution_count": 3,
   "metadata": {},
   "outputs": [],
   "source": [
    "for col in X_train_numeric.columns:\n",
    "    if X_train_numeric[col].isnull().values.any() > 0:\n",
    "        print(col)\n",
    "    x_min = X_train_numeric[col].min()\n",
    "    x_max = X_train_numeric[col].max()\n",
    "    X_train_numeric[col] = (X_train_numeric[col] - x_min) / (x_max - x_min)\n",
    "    # also need to normalize test data, but must use training data\n",
    "    X_test_numeric[col] = (X_test_numeric[col] - x_min) / (x_max - x_min)\n",
    "    X_test_numeric[col].mask(X_test_numeric[col] < 0, 0, inplace=True)\n",
    "    X_test_numeric[col].mask(X_test_numeric[col] > 1, 1, inplace=True)\n",
    "    # TODO: DETERMINE WHAT TO DO IN THESE CASES!!!\n",
    "    if X_test_numeric[col].min() < 0:\n",
    "        print(f\"min is less than zero in test data in column {col}\")\n",
    "        print(X_test_numeric[col].min())\n",
    "    if X_test_numeric[col].max() > 1:\n",
    "        print(f\"max is more than one in test data in column {col}\")\n",
    "        print(X_test_numeric[col].max())"
   ]
  },
  {
   "cell_type": "code",
   "execution_count": 4,
   "metadata": {},
   "outputs": [],
   "source": [
    "import torch.nn as nn\n",
    "\n",
    "\n",
    "model = nn.Sequential(\n",
    "    nn.Conv2d(in_channels=1, out_channels=64, kernel_size=(1, 3), stride=1, padding=0),\n",
    "    nn.BatchNorm2d(64),\n",
    "    nn.ReLU(inplace=True),\n",
    "    nn.MaxPool2d(kernel_size=(1, 2), stride=1),\n",
    "    nn.Conv2d(in_channels=64, out_channels=64, kernel_size=(1, 3), stride=1, padding=0),\n",
    "    nn.BatchNorm2d(64),\n",
    "    nn.ReLU(inplace=True),\n",
    "    nn.MaxPool2d(kernel_size=(1, 2), stride=1),\n",
    "    nn.Flatten(),\n",
    "    nn.Linear(59584, 512),\n",
    "    nn.ReLU(),\n",
    "    nn.Dropout(p=0.25),\n",
    "    nn.Linear(512, 1),\n",
    "    nn.Sigmoid()\n",
    ")"
   ]
  },
  {
   "cell_type": "code",
   "execution_count": 5,
   "metadata": {},
   "outputs": [
    {
     "name": "stdout",
     "output_type": "stream",
     "text": [
      "total params: 30520897\n"
     ]
    }
   ],
   "source": [
    "# our model has some # of parameters:\n",
    "count = 0\n",
    "for p in model.parameters():\n",
    "    n_params = np.prod(list(p.data.shape)).item()\n",
    "    count += n_params\n",
    "print(f'total params: {count}')"
   ]
  },
  {
   "cell_type": "code",
   "execution_count": 6,
   "metadata": {},
   "outputs": [],
   "source": [
    "import torch.optim as optim\n",
    "criterion = nn.BCELoss()\n",
    "optimizer = optim.Adam(model.parameters())"
   ]
  },
  {
   "cell_type": "code",
   "execution_count": 7,
   "metadata": {},
   "outputs": [
    {
     "name": "stdout",
     "output_type": "stream",
     "text": [
      "[[0.13043478 0.         0.25339147 ... 0.         0.         0.        ]\n",
      " [0.05797101 1.         0.47722868 ... 0.         0.         0.        ]\n",
      " [0.05507246 0.         0.51065891 ... 0.         0.         0.        ]\n",
      " ...\n",
      " [0.30434783 0.         0.42005814 ... 0.         0.         0.        ]\n",
      " [0.89565217 1.         0.84932171 ... 0.         0.12903226 0.        ]\n",
      " [0.14492754 0.         0.42005814 ... 0.         0.         0.        ]]\n"
     ]
    }
   ],
   "source": [
    "print(X_train_numeric.values)"
   ]
  },
  {
   "cell_type": "markdown",
   "metadata": {},
   "source": [
    "Need a Dataset object, which we make from the dataframes"
   ]
  },
  {
   "cell_type": "code",
   "execution_count": 8,
   "metadata": {},
   "outputs": [],
   "source": [
    "# Custom Dataset\n",
    "from torch.utils.data import Dataset\n",
    "import torch\n",
    "\n",
    "\n",
    "class CustomDataset(Dataset):\n",
    "    def __init__(self, X, Y):\n",
    "        \"\"\"\n",
    "        X: a dataframe with rows as training examples and columns features\n",
    "        Y: a pandas series with labels\"\"\"\n",
    "        self.x_train=torch.tensor(X.values, dtype=torch.float32)\n",
    "        self.y_train=torch.tensor(Y.values, dtype=torch.float32)\n",
    "        self.x_train = torch.reshape(self.x_train, (self.x_train.shape[0], 1, 1, self.x_train.shape[1],))\n",
    "\n",
    "    def __len__(self):\n",
    "        return len(self.y_train)\n",
    "\n",
    "    def __getitem__(self,idx):\n",
    "        return (self.x_train[idx], self.y_train[idx])"
   ]
  },
  {
   "cell_type": "markdown",
   "metadata": {},
   "source": [
    "Make the dataloaders"
   ]
  },
  {
   "cell_type": "code",
   "execution_count": 9,
   "metadata": {},
   "outputs": [],
   "source": [
    "from torch.utils.data import DataLoader, random_split\n",
    "\n",
    "BATCH_SIZE = 512\n",
    "\n",
    "ds_train = CustomDataset(X_train_numeric, y_train_numeric)\n",
    "len_full = len(ds_train)\n",
    "len_train = int(0.8*len(ds_train))\n",
    "len_val = len_full - len_train\n",
    "ds_train, ds_val = random_split(ds_train, [len_train, len_val])\n",
    "train_loader = DataLoader(ds_train, batch_size=BATCH_SIZE, shuffle=True)\n",
    "val_loader = DataLoader(ds_val, batch_size=BATCH_SIZE, shuffle=True)\n",
    "val_eval_loader = DataLoader(ds_val, batch_size=len_val, shuffle=False)"
   ]
  },
  {
   "cell_type": "code",
   "execution_count": 10,
   "metadata": {},
   "outputs": [
    {
     "name": "stdout",
     "output_type": "stream",
     "text": [
      "EPOCH 0\n"
     ]
    }
   ],
   "source": [
    "n_epochs = 5  # paper used 100 originally\n",
    "lr = 0.001\n",
    "\n",
    "train_loss_hist = np.zeros([n_epochs, 1])\n",
    "val_loss_hist = np.zeros([n_epochs, 1])\n",
    "for epoch in range(n_epochs):\n",
    "    print(f'EPOCH {epoch}')\n",
    "    model.train()\n",
    "    train_loss = 0\n",
    "    for i, data in enumerate(train_loader):\n",
    "        features, labels = data\n",
    "        # print(type(features))\n",
    "        # print(f\"PESKY BASTARDS: {features.isnan().sum()}\")\n",
    "        optimizer.zero_grad()\n",
    "        # forward pass\n",
    "        output = model(features)\n",
    "        output = torch.reshape(output, (output.shape[0], ))\n",
    "        if output.isnan().sum() > 0:\n",
    "            print(f\"RIP{output.isnan().sum()}\")\n",
    "        output = torch.nan_to_num(output)\n",
    "        # calculate loss\n",
    "        loss = criterion(output, labels)\n",
    "        # backward pass\n",
    "        loss.backward()\n",
    "        # update\n",
    "        optimizer.step()\n",
    "        # track training loss\n",
    "        train_loss_hist[epoch] += loss.item()\n",
    "    train_loss_hist[epoch] /= len(train_loader)\n",
    "    print(f\"\\ttraining loss: {train_loss_hist[epoch]}\")\n",
    "\n",
    "    # validate\n",
    "    with torch.no_grad():\n",
    "        model.eval()\n",
    "        output = None\n",
    "        labels = None\n",
    "        for i, data in enumerate(val_eval_loader):\n",
    "            features, labels = data\n",
    "            output = model(features)\n",
    "            output = torch.reshape(output, (output.shape[0], ))\n",
    "            output = torch.nan_to_num(output)\n",
    "            loss = criterion(output, labels)\n",
    "            val_loss_hist[epoch] += loss.item()\n",
    "        preds = output.cpu().detach().numpy()\n",
    "        ground_truths = labels.cpu().detach().numpy()\n",
    "        print(f'\\tAUC: {sklearn.metrics.roc_auc_score(ground_truths, preds)}')\n",
    "        val_loss_hist[epoch] /= len(val_eval_loader)\n",
    "        print(f\"\\tvalidation loss: {val_loss_hist[epoch]}\")"
   ]
  },
  {
   "cell_type": "code",
   "execution_count": null,
   "metadata": {},
   "outputs": [],
   "source": [
    "import torch\n",
    "\n",
    "with torch.no_grad():\n",
    "    model.eval()\n",
    "    for i, data in enumerate(val_eval_loader):\n",
    "        print(i)\n",
    "        features, labels = data\n",
    "        output = model(features)\n",
    "        output = torch.reshape(output, (output.shape[0], ))\n",
    "        # output = torch.nan_to_num(output)\n",
    "        preds = output.cpu().detach().numpy()\n",
    "        ground_truths = labels.cpu().detach().numpy()\n",
    "        print(f'AUC: {sklearn.metrics.roc_auc_score(ground_truths, preds)}')\n",
    "        "
   ]
  },
  {
   "cell_type": "markdown",
   "metadata": {},
   "source": [
    "K-fold cross validation"
   ]
  },
  {
   "cell_type": "code",
   "execution_count": null,
   "metadata": {},
   "outputs": [],
   "source": [
    "n_epochs = 5  # paper used 100 originally\n",
    "lr = 0.001\n",
    "n_folds = 5\n",
    "\n",
    "train_loss_hist = np.zeros([n_epochs, 1])\n",
    "val_loss_hist = np.zeros([n_epochs, 1])\n",
    "kfold = KFold(n_splits=n_folds, shuffle=True)\n",
    "ds_train = CustomDataset(X_train_numeric, y_train_numeric)\n",
    "len_full = len(ds_train)\n",
    "len_train = int(0.8*len(ds_train))\n",
    "len_val = len_full - len_train\n",
    "for fold_num, (train_indices, val_indices) in enumerate(kfold.split(ds_train)):\n",
    "    val_dataset = torch.utils.data.Subset(ds_train, val_indices)\n",
    "    train_dataset = torch.utils.data.Subset(ds_train, train_indices)\n",
    "\n",
    "    # Define data loaders for train and val\n",
    "    train_loader = torch.utils.data.DataLoader(\n",
    "                      train_dataset, \n",
    "                      batch_size=BATCH_SIZE, shuffle=True)\n",
    "    val_loader = torch.utils.data.DataLoader(\n",
    "                      val_dataset,\n",
    "                      batch_size=len_val, shuffle=True)\n",
    "    \n",
    "    for epoch in range(n_epochs):\n",
    "        print(f'EPOCH {epoch}')\n",
    "        model.train()\n",
    "        train_loss = 0\n",
    "        for i, data in enumerate(train_loader):\n",
    "            features, labels = data\n",
    "            # print(type(features))\n",
    "            # print(f\"PESKY BASTARDS: {features.isnan().sum()}\")\n",
    "            optimizer.zero_grad()\n",
    "            # forward pass\n",
    "            output = model(features)\n",
    "            output = torch.reshape(output, (output.shape[0], ))\n",
    "            if output.isnan().sum() > 0:\n",
    "                print(f\"RIP{output.isnan().sum()}\")\n",
    "            output = torch.nan_to_num(output)\n",
    "            # calculate loss\n",
    "            loss = criterion(output, labels)\n",
    "            # backward pass\n",
    "            loss.backward()\n",
    "            # update\n",
    "            optimizer.step()\n",
    "            # track training loss\n",
    "            train_loss_hist[epoch] += loss.item()\n",
    "        train_loss_hist[epoch] /= len(train_loader)\n",
    "        print(f\"\\ttraining loss: {train_loss_hist[epoch]}\")\n",
    "\n",
    "        # validate\n",
    "        with torch.no_grad():\n",
    "            model.eval()\n",
    "            output = None\n",
    "            labels = None\n",
    "            for i, data in enumerate(val_eval_loader):\n",
    "                features, labels = data\n",
    "                output = model(features)\n",
    "                output = torch.reshape(output, (output.shape[0], ))\n",
    "                output = torch.nan_to_num(output)\n",
    "                loss = criterion(output, labels)\n",
    "                val_loss_hist[epoch] += loss.item()\n",
    "            preds = output.cpu().detach().numpy()\n",
    "            ground_truths = labels.cpu().detach().numpy()\n",
    "            print(f'\\tAUC: {sklearn.metrics.roc_auc_score(ground_truths, preds)}')\n",
    "            val_loss_hist[epoch] /= len(val_eval_loader)\n",
    "            print(f\"\\tvalidation loss: {val_loss_hist[epoch]}\")"
   ]
  }
 ],
 "metadata": {
  "interpreter": {
   "hash": "4b5295d72cc8c3d140bbb6686d5919ce0ad0a523816efde1e1cd082b7d39dbc7"
  },
  "kernelspec": {
   "display_name": "Python 3.9.5 ('base')",
   "language": "python",
   "name": "python3"
  },
  "language_info": {
   "codemirror_mode": {
    "name": "ipython",
    "version": 3
   },
   "file_extension": ".py",
   "mimetype": "text/x-python",
   "name": "python",
   "nbconvert_exporter": "python",
   "pygments_lexer": "ipython3",
   "version": "3.9.5"
  },
  "orig_nbformat": 4
 },
 "nbformat": 4,
 "nbformat_minor": 2
}
