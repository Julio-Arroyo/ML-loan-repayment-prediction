{
 "cells": [
  {
   "cell_type": "code",
   "execution_count": 2,
   "metadata": {},
   "outputs": [
    {
     "name": "stderr",
     "output_type": "stream",
     "text": [
      "/Users/jarroyo/miniforge3/lib/python3.9/site-packages/xgboost/compat.py:36: FutureWarning: pandas.Int64Index is deprecated and will be removed from pandas in a future version. Use pandas.Index with the appropriate dtype instead.\n",
      "  from pandas import MultiIndex, Int64Index\n",
      "/Users/jarroyo/miniforge3/lib/python3.9/site-packages/statsmodels/compat/pandas.py:65: FutureWarning: pandas.Int64Index is deprecated and will be removed from pandas in a future version. Use pandas.Index with the appropriate dtype instead.\n",
      "  from pandas import Int64Index as NumericIndex\n"
     ]
    }
   ],
   "source": [
    "import numpy as np\n",
    "import xgboost as xgb\n",
    "import pandas as pd\n",
    "import category_encoders as ce\n",
    "import sklearn\n",
    "from sklearn.metrics import accuracy_score\n",
    "from sklearn.preprocessing import LabelEncoder\n",
    "import lightgbm as lgb\n",
    "from sklearn import metrics\n",
    "from sklearn.model_selection import GridSearchCV\n",
    "from sklearn.utils.multiclass import unique_labels\n",
    "import csv"
   ]
  },
  {
   "cell_type": "code",
   "execution_count": 3,
   "metadata": {},
   "outputs": [
    {
     "name": "stdout",
     "output_type": "stream",
     "text": [
      "(197250, 13)\n"
     ]
    }
   ],
   "source": [
    "train_data = pd.read_csv('../data/LOANS_TRAIN.csv')\n",
    "test_data = pd.read_csv('../data/LOANS_TEST.csv')\n",
    "\n",
    "id_column = train_data\n",
    "\n",
    "train_data.drop(columns=['id','grade', 'emp_title', 'title'], axis=1, inplace=True)\n",
    "test_data.drop(columns=['id','grade', 'emp_title', 'title'], axis=1, inplace=True)\n",
    "\n",
    "#Strip percent(%) from int_rate\n",
    "train_data['int_rate'] = train_data['int_rate'].str.rstrip('%').astype(float)\n",
    "test_data['int_rate'] = test_data['int_rate'].str.rstrip('%').astype(float)\n",
    "\n",
    "#Strip percent(%) from revol_util\n",
    "train_data['revol_util'] = train_data['revol_util'].str.rstrip('%').astype(float)\n",
    "test_data['revol_util'] = test_data['revol_util'].str.rstrip('%').astype(float)\n",
    "\n",
    "X_train = train_data.iloc[:,:-1]\n",
    "y_train = train_data.iloc[:,-1]\n",
    "X_test = test_data.iloc[:,:]\n",
    "\n",
    "X_train_numeric = X_train.select_dtypes(include=np.number)\n",
    "X_test_numeric = X_train.select_dtypes(include=np.number)\n",
    "# y_train_numeric = y_train.select_dtypes(include=np.number)\n",
    "y_train_numeric = y_train.copy(deep=False)\n",
    "y_train_numeric.replace('Fully Paid', 0, inplace=True)\n",
    "y_train_numeric.replace('Charged Off', 1, inplace=True)\n",
    "print(X_train_numeric.shape)\n"
   ]
  },
  {
   "cell_type": "code",
   "execution_count": 10,
   "metadata": {},
   "outputs": [
    {
     "name": "stdout",
     "output_type": "stream",
     "text": [
      "BEFORE\n",
      "(197250, 13)\n",
      "(197250,)\n",
      "AFTER\n",
      "(287922, 13)\n",
      "(287922,)\n"
     ]
    }
   ],
   "source": [
    "X_balanced = []\n",
    "Y_balanced = []\n",
    "for i in range(X_train_numeric.shape[0]):\n",
    "    curr_df = X_train_numeric.iloc[i,:]\n",
    "    d = curr_df.to_dict()\n",
    "    label = y_train_numeric[i]\n",
    "    if label == 1:\n",
    "        for _ in range(3):\n",
    "            X_balanced.append(d)\n",
    "            Y_balanced.append(label)\n",
    "    X_balanced.append(d)\n",
    "    Y_balanced.append(label)\n",
    "X_balanced = pd.DataFrame(X_balanced)\n",
    "Y_balanced = pd.Series(Y_balanced)\n",
    "\n",
    "print(\"BEFORE\")\n",
    "print(X_train_numeric.shape)\n",
    "print(y_train_numeric.shape)\n",
    "print('AFTER')\n",
    "print(X_balanced.shape)\n",
    "print(Y_balanced.shape)\n",
    "# print(X_balanced)\n",
    "# Y_balanced = pd.Series(dtype=float)\n",
    "# print(y_train_numeric.shape)\n",
    "# print(\"BEFORE\")\n",
    "# print(X_train_numeric[1])\n",
    "# for k, row in X_train_numeric.iterrows():\n",
    "#     label = pd.Series([y_train_numeric[k]])\n",
    "#     if y_train_numeric[k] == 1:\n",
    "#         for _ in range(3):\n",
    "#             X_balanced.append(row)\n",
    "#             Y_balanced.append(label)\n",
    "#     X_balanced.append(row)\n",
    "#     Y_balanced.append(label)\n",
    "#     if k == 10:\n",
    "#         break\n",
    "# for k, row in X_train_numeric.iterrows():\n",
    "#     label = pd.Series([y_train_numeric[k]])\n",
    "#     print(type(row))\n",
    "#     if y_train_numeric[k] == 1:\n",
    "#         for _ in range(3):\n",
    "#             X_balanced = pd.concat([X_balanced, row.to_frame()])\n",
    "#             Y_balanced = pd.concat([Y_balanced, label])\n",
    "#     X_balanced = pd.concat([X_balanced, row.to_frame()])\n",
    "#     Y_balanced = pd.concat([Y_balanced, label])\n",
    "#     if k == 10:\n",
    "#         break\n",
    "# print(\"AFTER\")\n",
    "# print(X_balanced.shape)\n",
    "# print(Y_balanced.shape)"
   ]
  },
  {
   "cell_type": "code",
   "execution_count": 11,
   "metadata": {},
   "outputs": [
    {
     "name": "stdout",
     "output_type": "stream",
     "text": [
      "        loan_amnt  term_(months)  int_rate  installment  annual_inc    dti  \\\n",
      "0          5000.0           36.0     10.65       162.87     24000.0  27.65   \n",
      "1          2500.0           60.0     15.27        59.83     30000.0   1.00   \n",
      "2          2500.0           60.0     15.27        59.83     30000.0   1.00   \n",
      "3          2500.0           60.0     15.27        59.83     30000.0   1.00   \n",
      "4          2500.0           60.0     15.27        59.83     30000.0   1.00   \n",
      "...           ...            ...       ...          ...         ...    ...   \n",
      "287917    31400.0           60.0     22.95       884.28     85000.0  24.76   \n",
      "287918     5500.0           36.0     14.09       188.22     20000.0  29.28   \n",
      "287919     5500.0           36.0     14.09       188.22     20000.0  29.28   \n",
      "287920     5500.0           36.0     14.09       188.22     20000.0  29.28   \n",
      "287921     5500.0           36.0     14.09       188.22     20000.0  29.28   \n",
      "\n",
      "        open_acc  pub_rec  revol_bal  revol_util  total_acc  mort_acc  \\\n",
      "0            3.0      0.0    13648.0        83.7        9.0       NaN   \n",
      "1            3.0      0.0     1687.0         9.4        4.0       NaN   \n",
      "2            3.0      0.0     1687.0         9.4        4.0       NaN   \n",
      "3            3.0      0.0     1687.0         9.4        4.0       NaN   \n",
      "4            3.0      0.0     1687.0         9.4        4.0       NaN   \n",
      "...          ...      ...        ...         ...        ...       ...   \n",
      "287917      12.0      0.0    23150.0        77.4       23.0       4.0   \n",
      "287918      15.0      0.0     6074.0        48.6       21.0       0.0   \n",
      "287919      15.0      0.0     6074.0        48.6       21.0       0.0   \n",
      "287920      15.0      0.0     6074.0        48.6       21.0       0.0   \n",
      "287921      15.0      0.0     6074.0        48.6       21.0       0.0   \n",
      "\n",
      "        pub_rec_bankruptcies  \n",
      "0                        0.0  \n",
      "1                        0.0  \n",
      "2                        0.0  \n",
      "3                        0.0  \n",
      "4                        0.0  \n",
      "...                      ...  \n",
      "287917                   0.0  \n",
      "287918                   0.0  \n",
      "287919                   0.0  \n",
      "287920                   0.0  \n",
      "287921                   0.0  \n",
      "\n",
      "[287922 rows x 13 columns]\n",
      "0         0\n",
      "1         1\n",
      "2         1\n",
      "3         1\n",
      "4         1\n",
      "         ..\n",
      "287917    1\n",
      "287918    1\n",
      "287919    1\n",
      "287920    1\n",
      "287921    1\n",
      "Length: 287922, dtype: int64\n"
     ]
    }
   ],
   "source": [
    "print(X_balanced)\n",
    "print(Y_balanced)\n",
    "X_tr, X_val, Y_tr, Y_val = sklearn.model_selection.train_test_split(\n",
    "    X_train_numeric, y_train_numeric, test_size=0.2, random_state=0)"
   ]
  },
  {
   "cell_type": "code",
   "execution_count": 45,
   "metadata": {},
   "outputs": [
    {
     "name": "stderr",
     "output_type": "stream",
     "text": [
      "/Users/jarroyo/miniforge3/lib/python3.9/site-packages/xgboost/sklearn.py:1224: UserWarning: The use of label encoder in XGBClassifier is deprecated and will be removed in a future release. To remove this warning, do the following: 1) Pass option use_label_encoder=False when constructing XGBClassifier object; and 2) Encode your labels (y) as integers starting with 0, i.e. 0, 1, 2, ..., [num_class - 1].\n",
      "  warnings.warn(label_encoder_deprecation_msg, UserWarning)\n",
      "/Users/jarroyo/miniforge3/lib/python3.9/site-packages/xgboost/data.py:262: FutureWarning: pandas.Int64Index is deprecated and will be removed from pandas in a future version. Use pandas.Index with the appropriate dtype instead.\n",
      "  elif isinstance(data.columns, (pd.Int64Index, pd.RangeIndex)):\n"
     ]
    },
    {
     "name": "stdout",
     "output_type": "stream",
     "text": [
      "[15:59:43] WARNING: /Users/runner/miniforge3/conda-bld/xgboost-split_1643226991592/work/src/learner.cc:1115: Starting in XGBoost 1.3.0, the default evaluation metric used with the objective 'binary:logistic' was changed from 'error' to 'logloss'. Explicitly set eval_metric if you'd like to restore the old behavior.\n",
      "<class 'numpy.ndarray'>\n",
      "0.673049507425129\n",
      "HER\n"
     ]
    },
    {
     "name": "stderr",
     "output_type": "stream",
     "text": [
      "/Users/jarroyo/miniforge3/lib/python3.9/site-packages/xgboost/data.py:262: FutureWarning: pandas.Int64Index is deprecated and will be removed from pandas in a future version. Use pandas.Index with the appropriate dtype instead.\n",
      "  elif isinstance(data.columns, (pd.Int64Index, pd.RangeIndex)):\n",
      "/Users/jarroyo/miniforge3/lib/python3.9/site-packages/xgboost/data.py:262: FutureWarning: pandas.Int64Index is deprecated and will be removed from pandas in a future version. Use pandas.Index with the appropriate dtype instead.\n",
      "  elif isinstance(data.columns, (pd.Int64Index, pd.RangeIndex)):\n"
     ]
    },
    {
     "data": {
      "text/plain": [
       "(0.7197867384892856, 0.673049507425129)"
      ]
     },
     "execution_count": 45,
     "metadata": {},
     "output_type": "execute_result"
    }
   ],
   "source": [
    "def auc(m, xtrain, xtest): \n",
    "    return (metrics.roc_auc_score(Y_tr,m.predict_proba(xtrain)[:,1]),\n",
    "                            metrics.roc_auc_score(Y_val, m.predict_proba(xtest)[:,1]))\n",
    "\n",
    "# Parameter Tuning\n",
    "# model = xgb.XGBClassifier()\n",
    "# param_dist = {\"max_depth\": [10,30,50],\n",
    "#               \"min_child_weight\" : [1,3,6],\n",
    "#               \"n_estimators\": [5],\n",
    "#               \"learning_rate\": [0.05, 0.1,0.16],}\n",
    "# grid_search = GridSearchCV(model, param_grid=param_dist, cv = 3, \n",
    "#                                    verbose=10, n_jobs=-1)\n",
    "# grid_search.fit(X_tr, Y_tr)\n",
    "\n",
    "# grid_search.best_estimator_\n",
    "\n",
    "model = xgb.XGBClassifier(max_depth=12, min_child_weight=1,  n_estimators=15,\\\n",
    "                          n_jobs=-1,learning_rate=0.01, gamma=5)\n",
    "model.fit(X_tr,Y_tr)\n",
    "predictions = model.predict_proba(X_val)\n",
    "print(type(predictions))\n",
    "print(sklearn.metrics.roc_auc_score(Y_val, predictions[:,1]))\n",
    "print('HER')\n",
    "auc(model, X_tr, X_val)\n"
   ]
  },
  {
   "cell_type": "code",
   "execution_count": null,
   "metadata": {},
   "outputs": [],
   "source": [
    "predictions = {\"id\": [], \"loan_status\": []}\n",
    "for index, value in X_test.items():\n",
    "    credit_score = row[\"grade\"]\n",
    "    idx = grade_2_index[credit_score]\n",
    "    feature = [0 for _ in range(7)]\n",
    "    feature[idx] = 1\n",
    "    prediction = model.predict_proba([feature])[0][1]\n",
    "    predictions[\"id\"].append(row['id'])\n",
    "    predictions[\"loan_status\"].append(prediction)"
   ]
  }
 ],
 "metadata": {
  "interpreter": {
   "hash": "4b5295d72cc8c3d140bbb6686d5919ce0ad0a523816efde1e1cd082b7d39dbc7"
  },
  "kernelspec": {
   "display_name": "Python 3.9.5 ('base')",
   "language": "python",
   "name": "python3"
  },
  "language_info": {
   "codemirror_mode": {
    "name": "ipython",
    "version": 3
   },
   "file_extension": ".py",
   "mimetype": "text/x-python",
   "name": "python",
   "nbconvert_exporter": "python",
   "pygments_lexer": "ipython3",
   "version": "3.9.5"
  },
  "orig_nbformat": 4
 },
 "nbformat": 4,
 "nbformat_minor": 2
}
