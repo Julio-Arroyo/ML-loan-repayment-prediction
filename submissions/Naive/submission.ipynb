{
 "cells": [
  {
   "cell_type": "code",
   "execution_count": 25,
   "metadata": {},
   "outputs": [
    {
     "name": "stdout",
     "output_type": "stream",
     "text": [
      "Collecting category_encoders\n",
      "  Downloading category_encoders-2.3.0-py2.py3-none-any.whl (82 kB)\n",
      "     |████████████████████████████████| 82 kB 1.2 MB/s             \n",
      "\u001b[?25hRequirement already satisfied: numpy>=1.14.0 in /Library/Frameworks/Python.framework/Versions/3.8/lib/python3.8/site-packages (from category_encoders) (1.21.0)\n",
      "Requirement already satisfied: scikit-learn>=0.20.0 in /Library/Frameworks/Python.framework/Versions/3.8/lib/python3.8/site-packages (from category_encoders) (1.0.1)\n",
      "Collecting statsmodels>=0.9.0\n",
      "  Downloading statsmodels-0.13.1-cp38-cp38-macosx_10_15_x86_64.whl (9.6 MB)\n",
      "     |████████████████████████████████| 9.6 MB 9.0 MB/s            \n",
      "\u001b[?25hRequirement already satisfied: pandas>=0.21.1 in /Library/Frameworks/Python.framework/Versions/3.8/lib/python3.8/site-packages (from category_encoders) (1.2.5)\n",
      "Requirement already satisfied: scipy>=1.0.0 in /Library/Frameworks/Python.framework/Versions/3.8/lib/python3.8/site-packages (from category_encoders) (1.7.0)\n",
      "Collecting patsy>=0.5.1\n",
      "  Downloading patsy-0.5.2-py2.py3-none-any.whl (233 kB)\n",
      "     |████████████████████████████████| 233 kB 8.3 MB/s            \n",
      "\u001b[?25hRequirement already satisfied: pytz>=2017.3 in /Library/Frameworks/Python.framework/Versions/3.8/lib/python3.8/site-packages (from pandas>=0.21.1->category_encoders) (2021.1)\n",
      "Requirement already satisfied: python-dateutil>=2.7.3 in /Library/Frameworks/Python.framework/Versions/3.8/lib/python3.8/site-packages (from pandas>=0.21.1->category_encoders) (2.8.1)\n",
      "Requirement already satisfied: six in /Users/eli.seiner/Library/Python/3.8/lib/python/site-packages (from patsy>=0.5.1->category_encoders) (1.15.0)\n",
      "Requirement already satisfied: joblib>=0.11 in /Library/Frameworks/Python.framework/Versions/3.8/lib/python3.8/site-packages (from scikit-learn>=0.20.0->category_encoders) (1.1.0)\n",
      "Requirement already satisfied: threadpoolctl>=2.0.0 in /Library/Frameworks/Python.framework/Versions/3.8/lib/python3.8/site-packages (from scikit-learn>=0.20.0->category_encoders) (3.0.0)\n",
      "Installing collected packages: patsy, statsmodels, category-encoders\n",
      "Successfully installed category-encoders-2.3.0 patsy-0.5.2 statsmodels-0.13.1\n",
      "\u001b[33mWARNING: You are using pip version 21.3.1; however, version 22.0.2 is available.\n",
      "You should consider upgrading via the '/Library/Frameworks/Python.framework/Versions/3.8/bin/python3.8 -m pip install --upgrade pip' command.\u001b[0m\n"
     ]
    }
   ],
   "source": [
    "# !pip install kaggle\n",
    "# !cd ~/.kaggle\n",
    "# !mv ~/Downloads/kaggle.json ./\n",
    "# !chmod 600 ./kaggle.json\n",
    "!pip install category_encoders\n"
   ]
  },
  {
   "cell_type": "code",
   "execution_count": 62,
   "metadata": {},
   "outputs": [
    {
     "name": "stdout",
     "output_type": "stream",
     "text": [
      "caltech-cs155-2022-mp1.zip: Skipping, found more recently modified local copy (use --force to force download)\n"
     ]
    }
   ],
   "source": [
    "!kaggle competitions download -c caltech-cs155-2022-mp1"
   ]
  },
  {
   "cell_type": "code",
   "execution_count": 8,
   "metadata": {},
   "outputs": [],
   "source": [
    "import numpy as np\n",
    "import pandas as pd\n",
    "import sklearn\n",
    "# import matplotlib.pyplot as plt\n",
    "import category_encoders as ce\n",
    "import sklearn.metrics"
   ]
  },
  {
   "cell_type": "code",
   "execution_count": null,
   "metadata": {},
   "outputs": [],
   "source": []
  },
  {
   "cell_type": "markdown",
   "metadata": {},
   "source": [
    "Import and Parse Data"
   ]
  },
  {
   "cell_type": "code",
   "execution_count": 37,
   "metadata": {},
   "outputs": [],
   "source": [
    "train_data = pd.read_csv('data/LOANS_TRAIN.csv')\n",
    "test_data = pd.read_csv('data/LOANS_TEST.csv')\n",
    "\n",
    "train_X = train_data.iloc[:,:-1]\n",
    "train_y = train_data.iloc[:,-1]\n",
    "\n",
    "# #Remove redundant data\n",
    "# # TODO: decide on which data to keep and which to drop\n",
    "# train_data = train_data.drop(columns=['id'])\n",
    "\n",
    "# #Strip percent(%) from int_rate\n",
    "# train_data['int_rate'] = train_data['int_rate'].str.rstrip('%').astype(float)\n",
    "\n",
    "# #Strip percent(%) from revol_util\n",
    "# train_data['revol_util'] = train_data['revol_util'].str.rstrip('%').astype(float)\n",
    "\n",
    "# #TODO: Select which data should be encoded\n",
    "# # ce_OHE = ce.OneHotEncoder(cols=['loan_status', 'application_type', 'home_ownership', 'verification_status'])\n",
    "# # train_data = ce_OHE.fit_transform(train_data)\n",
    "\n",
    "# ce_BE = ce.BinaryEncoder(cols=['loan_status'])\n",
    "# train_data = ce_BE.fit_transform(train_data)\n",
    "\n",
    "# train_X = train_data.iloc[:,:-1]\n",
    "# train_y = train_data.iloc[:,-1]\n",
    "\n",
    "# #Replace subgrade with numerical value\n",
    "# ce_LOO = ce.LeaveOneOutEncoder(cols=['grade', 'emp_title', 'issue_d', 'addr_state', 'purpose', 'initial_list_status', 'title', 'application_type', 'home_ownership', 'verification_status', 'sub_grade', 'zip_code', 'emp_length', 'mort_acc', 'earliest_cr_line'])\n",
    "# train_X = ce_LOO.fit_transform(train_X, train_y)\n",
    "\n",
    "# print(train_y[:5])\n",
    "# print(len(train_X.keys()))"
   ]
  },
  {
   "cell_type": "code",
   "execution_count": 48,
   "metadata": {},
   "outputs": [
    {
     "name": "stdout",
     "output_type": "stream",
     "text": [
      "[0 5000 36 ' 10.65%' 162.87 'B' 'B2' nan '10+ years' 'RENT' 24000.0\n",
      " 'Verified' 'Dec-2011' 'credit_card' 'Computer' '860xx' 'AZ' 27.65\n",
      " 'Jan-1985' 3 0 13648 '83.7%' 9 'f' 'Individual' nan 0.0 'Fully Paid']\n",
      "B\n"
     ]
    },
    {
     "data": {
      "text/plain": [
       "0.6558261831707356"
      ]
     },
     "execution_count": 48,
     "metadata": {},
     "output_type": "execute_result"
    }
   ],
   "source": [
    "print(train_data.values[0])\n",
    "print(train_data.values[0][5])\n",
    "count = 0\n",
    "\n",
    "correct = 0\n",
    "total = 0\n",
    "predictions = []\n",
    "ground_truths = []\n",
    "indicator = True\n",
    "for datapoint in train_data.values:\n",
    "    credit_score = datapoint[5]\n",
    "    outcome = datapoint[-1]\n",
    "    if outcome == \"Fully Paid\":\n",
    "        ground_truths.append(0)\n",
    "    else:\n",
    "        ground_truths.append(1)\n",
    "    if credit_score == \"A\":\n",
    "        predictions.append(0)\n",
    "    elif credit_score == \"B\":\n",
    "        predictions.append(0.16*1)\n",
    "    elif credit_score == \"C\":\n",
    "        predictions.append(0.16*2)\n",
    "    elif credit_score == \"D\":\n",
    "        predictions.append(0.16*3)\n",
    "    elif credit_score == \"E\":\n",
    "        predictions.append(0.16*4)\n",
    "    elif credit_score == \"F\":\n",
    "        predictions.append(0.16*5)\n",
    "    elif credit_score == \"G\":\n",
    "        predictions.append(1)\n",
    "    else:\n",
    "        predictions.append(1)\n",
    "sklearn.metrics.roc_auc_score(ground_truths, predictions)\n",
    "\n",
    "\n"
   ]
  },
  {
   "cell_type": "code",
   "execution_count": 49,
   "metadata": {},
   "outputs": [
    {
     "name": "stdout",
     "output_type": "stream",
     "text": [
      "<class 'pandas.core.frame.DataFrame'>\n"
     ]
    }
   ],
   "source": [
    "# Naive model\n",
    "print(type(test_data))\n",
    "predictions = {\"id\": [], \"loan_status\": []}\n",
    "for index, row in test_data.iterrows():\n",
    "    credit_score = row[\"grade\"]\n",
    "    id = row[\"id\"]\n",
    "    if credit_score == \"A\":\n",
    "        prediction = 0\n",
    "    elif credit_score == \"B\":\n",
    "        prediction = 0.16*1\n",
    "    elif credit_score == \"C\":\n",
    "        prediction = 0.16*2\n",
    "    elif credit_score == \"D\":\n",
    "        prediction = 0.16*3\n",
    "    elif credit_score == \"E\":\n",
    "        prediction = 0.16*4\n",
    "    elif credit_score == \"F\":\n",
    "        prediction = 0.16*5\n",
    "    elif credit_score == \"G\":\n",
    "        prediction = 1\n",
    "    else:\n",
    "        prediction = 1\n",
    "    predictions[\"id\"].append(id)\n",
    "    predictions[\"loan_status\"].append(prediction)"
   ]
  },
  {
   "cell_type": "code",
   "execution_count": 50,
   "metadata": {},
   "outputs": [],
   "source": [
    "predictions_df = pd.DataFrame(data=predictions)\n",
    "predictions_df.to_csv(\"simple_predictions\", index=False)"
   ]
  }
 ],
 "metadata": {
  "interpreter": {
   "hash": "cadefa720d1a2267f4d12d08d812560a64cfe891877bc388bf0e8af3e4846067"
  },
  "kernelspec": {
   "display_name": "Python 3.8.5 64-bit",
   "name": "python3"
  },
  "language_info": {
   "codemirror_mode": {
    "name": "ipython",
    "version": 3
   },
   "file_extension": ".py",
   "mimetype": "text/x-python",
   "name": "python",
   "nbconvert_exporter": "python",
   "pygments_lexer": "ipython3",
   "version": "3.9.5"
  },
  "orig_nbformat": 4
 },
 "nbformat": 4,
 "nbformat_minor": 2
}
